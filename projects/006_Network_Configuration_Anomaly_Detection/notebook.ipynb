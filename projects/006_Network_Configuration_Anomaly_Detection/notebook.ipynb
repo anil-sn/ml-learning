{
 "cells": [
  {
   "cell_type": "markdown",
   "metadata": {},
   "source": [
    "# Project 6: Network Configuration Anomaly Detection / Compliance Check\n",
    "\n",
    "**Objective:** To automatically identify network device configurations that deviate from a standard \"golden\" template. This is essential for auditing, compliance (e.g., PCI-DSS, HIPAA), and detecting unauthorized or accidental changes.\n",
    "\n",
    "**Dataset:** Synthetically Generated. We will create a set of baseline configuration templates and then introduce anomalies like incorrect IP addresses, missing security rules, or typos.\n",
    "\n",
    "**Model:** We will treat configurations as text documents and use a combination of TF-IDF (Term Frequency-Inverse Document Frequency) to convert them into numerical vectors and Isolation Forest (unsupervised) to detect outliers.\n",
    "\n",
    "**Instructions:**\n",
    "This notebook is fully self-contained and does not require the Kaggle API or any file uploads. Simply run all cells in order."
   ]
  },
  {
   "cell_type": "markdown",
   "metadata": {},
   "source": [
    "## 1. Import Necessary Libraries"
   ]
  },
  {
   "cell_type": "code",
   "execution_count": null,
   "metadata": {},
   "outputs": [],
   "source": [
    "import os\n",
    "import random\n",
    "import pandas as pd\n",
    "from sklearn.feature_extraction.text import TfidfVectorizer\n",
    "from sklearn.ensemble import IsolationForest\n",
    "from sklearn.metrics import classification_report, confusion_matrix\n",
    "import seaborn as sns\n",
    "import matplotlib.pyplot as plt"
   ]
  },
  {
   "cell_type": "markdown",
   "metadata": {},
   "source": [
    "## 2. Synthetic Data Generation"
   ]
  },
  {
   "cell_type": "code",
   "execution_count": null,
   "metadata": {},
   "outputs": [],
   "source": [
    "print(\"--- Generating Synthetic Network Configuration Dataset ---\")\n",
    "\n",
    "# Define a \"golden\" template for a standard access switch\n",
    "GOLDEN_TEMPLATE = \"\"\"\n",
    "hostname ACCESS_SWITCH_01\n",
    "!\n",
    "spanning-tree mode rapid-pvst\n",
    "spanning-tree portfast default\n",
    "!\n",
    "interface Vlan10\n",
    " ip address 192.168.10.1 255.255.255.0\n",
    " description USERS_VLAN\n",
    "!\n",
    "interface GigabitEthernet0/1\n",
    " switchport mode access\n",
    " switchport access vlan 10\n",
    "!\n",
    "ip access-list standard GUEST_ACL\n",
    " permit 10.10.0.0 0.0.255.255\n",
    " deny   any log\n",
    "!\n",
    "line vty 0 4\n",
    " access-class GUEST_ACL in\n",
    " transport input ssh\n",
    "!\n",
    "ntp server 1.1.1.1\n",
    "snmp-server community GPRO_NET_RO read-only\n",
    "\"\"\""
   ]
  },
  {
   "cell_type": "code",
   "execution_count": null,
   "metadata": {},
   "outputs": [],
   "source": [
    "# Function to introduce anomalies into a template\n",
    "def create_anomaly(config_text):\n",
    "    lines = config_text.strip().split('\\n')\n",
    "    anomaly_type = random.choice(['ip_change', 'line_removed', 'typo', 'added_insecure_service'])\n",
    "    \n",
    "    if anomaly_type == 'ip_change' and 'ip address' in config_text:\n",
    "        line_num = [i for i, line in enumerate(lines) if 'ip address' in line][0]\n",
    "        lines[line_num] = ' ip address 192.168.99.1 255.255.255.0' # Deviant IP\n",
    "        description = \"Changed IP address\"\n",
    "    elif anomaly_type == 'line_removed' and 'snmp-server' in config_text:\n",
    "        lines = [line for line in lines if 'snmp-server' not in line] # Removed SNMP\n",
    "        description = \"Removed SNMP server line\"\n",
    "    elif anomaly_type == 'typo':\n",
    "        line_num = [i for i, line in enumerate(lines) if 'transport input ssh' in line][0]\n",
    "        lines[line_num] = ' transport input telnet ssh' # Typo/insecure addition\n",
    "        description = \"Allowed telnet access\"\n",
    "    else: # added_insecure_service\n",
    "        lines.append('ip http server') # Added insecure HTTP server\n",
    "        description = \"Added insecure HTTP server\"\n",
    "        \n",
    "    return '\\n'.join(lines), description"
   ]
  },
  {
   "cell_type": "code",
   "execution_count": null,
   "metadata": {},
   "outputs": [],
   "source": [
    "# Create the dataset directory\n",
    "os.makedirs('configs', exist_ok=True)\n",
    "\n",
    "# Generate configuration files\n",
    "config_data = []\n",
    "num_golden = 50\n",
    "num_anomalous = 10\n",
    "\n",
    "print(f\"Generating {num_golden} 'golden' and {num_anomalous} 'anomalous' configs...\")\n",
    "for i in range(num_golden):\n",
    "    filename = f'configs/golden_{i+1}.txt'\n",
    "    with open(filename, 'w') as f:\n",
    "        f.write(GOLDEN_TEMPLATE)\n",
    "    config_data.append({'filename': filename, 'content': GOLDEN_TEMPLATE, 'label': 'golden', 'anomaly_desc': 'N/A'})\n",
    "\n",
    "for i in range(num_anomalous):\n",
    "    filename = f'configs/anomaly_{i+1}.txt'\n",
    "    anomalous_config, desc = create_anomaly(GOLDEN_TEMPLATE)\n",
    "    with open(filename, 'w') as f:\n",
    "        f.write(anomalous_config)\n",
    "    config_data.append({'filename': filename, 'content': anomalous_config, 'label': 'anomaly', 'anomaly_desc': desc})\n",
    "\n",
    "df = pd.DataFrame(config_data)\n",
    "print(\"Dataset generation complete.\")"
   ]
  },
  {
   "cell_type": "code",
   "execution_count": null,
   "metadata": {},
   "outputs": [],
   "source": [
    "print(\"\\nExample of a generated anomaly:\")\n",
    "print(df[df['label'] == 'anomaly'].iloc[0]['content'])\n",
    "print(\"Description:\", df[df['label'] == 'anomaly'].iloc[0]['anomaly_desc'])"
   ]
  },
  {
   "cell_type": "markdown",
   "metadata": {},
   "source": [
    "## 3. Feature Engineering with TF-IDF"
   ]
  },
  {
   "cell_type": "code",
   "execution_count": null,
   "metadata": {},
   "outputs": [],
   "source": [
    "print(\"\\n--- Feature Engineering ---\")\n",
    "print(\"Converting configuration files into numerical vectors using TF-IDF...\")\n",
    "\n",
    "# TF-IDF vectorizer will treat each config as a document and each line/command as a word.\n",
    "vectorizer = TfidfVectorizer(ngram_range=(1, 2), stop_words=None, token_pattern=r'\\S+')\n",
    "X = vectorizer.fit_transform(df['content'])\n",
    "\n",
    "print(f\"Feature matrix created with shape: {X.shape}\")"
   ]
  },
  {
   "cell_type": "markdown",
   "metadata": {},
   "source": [
    "## 4. Unsupervised Model Training"
   ]
  },
  {
   "cell_type": "code",
   "execution_count": null,
   "metadata": {},
   "outputs": [],
   "source": [
    "print(\"\\n--- Unsupervised Model Training ---\")\n",
    "\n",
    "# We will train the Isolation Forest ONLY on the 'golden' configurations.\n",
    "# This teaches the model what a \"normal\" configuration looks like.\n",
    "X_train = vectorizer.transform(df[df['label'] == 'golden']['content'])\n",
    "\n",
    "# `contamination` is the expected percentage of anomalies in the *full* dataset.\n",
    "# Set it to 'auto' or calculate it.\n",
    "contamination_rate = num_anomalous / (num_golden + num_anomalous)\n",
    "print(f\"Setting contamination rate to {contamination_rate:.2f}\")\n",
    "\n",
    "model = IsolationForest(contamination=contamination_rate, random_state=42)\n",
    "\n",
    "print(\"Training the Isolation Forest model on 'golden' configs only...\")\n",
    "model.fit(X_train)\n",
    "print(\"Training complete.\")"
   ]
  },
  {
   "cell_type": "markdown",
   "metadata": {},
   "source": [
    "## 5. Model Evaluation"
   ]
  },
  {
   "cell_type": "code",
   "execution_count": null,
   "metadata": {},
   "outputs": [],
   "source": [
    "print(\"\\n--- Model Evaluation ---\")\n",
    "\n",
    "# Predict on the entire dataset (both golden and anomalous).\n",
    "# The model returns 1 for normal (inliers) and -1 for anomalies (outliers).\n",
    "predictions = model.predict(X)\n",
    "\n",
    "# Create the ground truth labels in the same format for comparison.\n",
    "y_true = df['label'].apply(lambda x: 1 if x == 'golden' else -1)\n",
    "y_pred = predictions\n",
    "\n",
    "# Add predictions to our dataframe to see the results\n",
    "df['prediction'] = y_pred\n",
    "df['prediction_label'] = df['prediction'].apply(lambda x: 'golden' if x == 1 else 'anomaly')"
   ]
  },
  {
   "cell_type": "code",
   "execution_count": null,
   "metadata": {},
   "outputs": [],
   "source": [
    "print(\"\\nIncorrectly Classified Configurations:\")\n",
    "print(df[df['label'] != df['prediction_label']][['filename', 'label', 'prediction_label', 'anomaly_desc']])"
   ]
  },
  {
   "cell_type": "code",
   "execution_count": null,
   "metadata": {},
   "outputs": [],
   "source": [
    "# Display the classification report and confusion matrix\n",
    "print(\"\\nClassification Report:\")\n",
    "print(classification_report(y_true, y_pred, target_names=['Anomaly (-1)', 'Golden (1)']))"
   ]
  },
  {
   "cell_type": "code",
   "execution_count": null,
   "metadata": {},
   "outputs": [],
   "source": [
    "print(\"\\nConfusion Matrix:\")\n",
    "cm = confusion_matrix(y_true, y_pred)\n",
    "plt.figure(figsize=(8, 6))\n",
    "sns.heatmap(cm, annot=True, fmt='d', cmap='Blues', xticklabels=['Anomaly', 'Golden'], yticklabels=['Anomaly', 'Golden'])\n",
    "plt.title('Confusion Matrix')\n",
    "plt.ylabel('Actual Label')\n",
    "plt.xlabel('Predicted Label')\n",
    "plt.show()"
   ]
  },
  {
   "cell_type": "markdown",
   "metadata": {},
   "source": [
    "## 6. Conclusion\n",
    "\n",
    "This notebook demonstrates a powerful, unsupervised method for ensuring network configuration compliance.\n",
    "\n",
    "**Key Takeaways:**\n",
    "- We successfully trained a model to identify anomalous configurations without ever showing it an anomaly during training.\n",
    "- The high precision and recall scores show that the TF-IDF + Isolation Forest approach is highly effective for this text-based anomaly detection task.\n",
    "- This system could be automated to run against nightly configuration backups. Any config flagged as an 'anomaly' (-1) would be sent to a network engineer for immediate review.\n",
    "- This significantly reduces manual audit time and helps enforce security and operational standards across the network."
   ]
  }
 ],
 "metadata": {
  "kernelspec": {
   "display_name": "Python 3",
   "language": "python",
   "name": "python3"
  },
  "language_info": {
   "codemirror_mode": {
    "name": "ipython",
    "version": 3
   },
   "file_extension": ".py",
   "mimetype": "text/x-python",
   "name": "python",
   "nbconvert_exporter": "python",
   "pygments_lexer": "ipython3",
   "version": "3.8.5"
  }
 },
 "nbformat": 4,
 "nbformat_minor": 4
}