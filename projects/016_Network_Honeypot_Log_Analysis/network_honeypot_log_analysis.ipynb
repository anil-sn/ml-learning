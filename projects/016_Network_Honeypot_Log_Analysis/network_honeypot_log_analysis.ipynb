{
 "cells": [
  {
   "cell_type": "markdown",
   "metadata": {},
   "source": [
    "# Project 16: Network Honeypot Log Analysis to Classify Attacker Behavior\n",
    "\n",
    "**Objective:** To automatically discover and classify different types of attacker behavior (e.g., port scanning, login brute-forcing, web scanning) by applying unsupervised clustering to honeypot logs.\n",
    "\n",
    "**Dataset Source:** **Synthetically Generated**. We will create a realistic honeypot log dataset that simulates various common attack patterns. This allows us to have a \"ground truth\" to verify if our clustering algorithm successfully separates the different tactics.\n",
    "\n",
    "**Model:** We will use **K-Means Clustering**, a fundamental and powerful unsupervised algorithm that groups data points into a specified number of clusters based on their feature similarity. We will use the \"Elbow Method\" to programmatically determine the optimal number of clusters.\n",
    "\n",
    "**Instructions:**\n",
    "This notebook is fully self-contained and does not require any external files or APIs. Simply run the entire code block in Google Colab."
   ]
  },
  {
   "cell_type": "markdown",
   "metadata": {},
   "source": [
    "## 1. Import Necessary Libraries"
   ]
  },
  {
   "cell_type": "code",
   "execution_count": null,
   "metadata": {},
   "outputs": [],
   "source": [
    "import pandas as pd\n",
    "import numpy as np\n",
    "import random\n",
    "from sklearn.cluster import KMeans\n",
    "from sklearn.preprocessing import StandardScaler\n",
    "from sklearn.decomposition import PCA\n",
    "import matplotlib.pyplot as plt\n",
    "import seaborn as sns"
   ]
  },
  {
   "cell_type": "markdown",
   "metadata": {},
   "source": [
    "## 2. Synthetic Honeypot Log Generation"
   ]
  },
  {
   "cell_type": "code",
   "execution_count": null,
   "metadata": {},
   "outputs": [],
   "source": [
    "print(\"--- Generating Synthetic Honeypot Log Dataset ---\")\n",
    "\n",
    "log_entries = []\n",
    "num_ips = 50\n",
    "\n",
    "for i in range(num_ips):\n",
    "    ip = f'185.112.{random.randint(1, 255)}.{random.randint(1, 255)}'\n",
    "    behavior = random.choice(['port_scan', 'brute_force_ssh', 'web_scan'])\n",
    "    \n",
    "    if behavior == 'port_scan':\n",
    "        # Many connections to many different ports\n",
    "        for _ in range(random.randint(80, 200)):\n",
    "            port = random.randint(1, 65535)\n",
    "            log_entries.append([ip, 22 if port % 100 == 0 else port, 'TCP', 'Connection refused', behavior])\n",
    "            \n",
    "    elif behavior == 'brute_force_ssh':\n",
    "        # Many connections to a single port (SSH) with failed logins\n",
    "        for _ in range(random.randint(50, 150)):\n",
    "            log_entries.append([ip, 22, 'SSH', 'Authentication failed', behavior])\n",
    "\n",
    "    elif behavior == 'web_scan':\n",
    "        # Many connections to web ports with 404 errors\n",
    "        for _ in range(random.randint(70, 180)):\n",
    "            port = random.choice([80, 443])\n",
    "            log_entries.append([ip, port, 'HTTP', 'GET /admin.php - 404 Not Found', behavior])\n",
    "\n",
    "# The label column is only for our final validation, it won't be used in training\n",
    "df = pd.DataFrame(log_entries, columns=['source_ip', 'dest_port', 'protocol', 'message', 'true_behavior'])\n",
    "\n",
    "print(\"Dataset generation complete. Sample log entries:\")\n",
    "print(df.sample(5))"
   ]
  },
  {
   "cell_type": "markdown",
   "metadata": {},
   "source": [
    "## 3. Feature Engineering: Creating Attacker Profiles"
   ]
  },
  {
   "cell_type": "code",
   "execution_count": null,
   "metadata": {},
   "outputs": [],
   "source": [
    "print(\"\\n--- Engineering Behavioral Features for each Source IP ---\")\n",
    "\n",
    "# Aggregate the raw logs by source IP to build a behavioral profile\n",
    "attacker_profiles = df.groupby('source_ip').agg(\n",
    "    total_connections=('dest_port', 'count'),\n",
    "    unique_ports_targeted=('dest_port', 'nunique'),\n",
    "    ssh_auth_failures=('message', lambda x: x.str.contains('Authentication failed').sum()),\n",
    "    http_404_errors=('message', lambda x: x.str.contains('404').sum()),\n",
    "    common_port=('dest_port', lambda x: x.mode()[0])\n",
    ")\n",
    "\n",
    "# Add our ground truth label for later evaluation\n",
    "attacker_profiles = attacker_profiles.join(df.groupby('source_ip')['true_behavior'].first())\n",
    "\n",
    "print(\"Generated attacker profiles. Sample:\")\n",
    "print(attacker_profiles.sample(5))"
   ]
  },
  {
   "cell_type": "markdown",
   "metadata": {},
   "source": [
    "## 4. Model Training: K-Means Clustering"
   ]
  },
  {
   "cell_type": "code",
   "execution_count": null,
   "metadata": {},
   "outputs": [],
   "source": [
    "print(\"\\n--- Unsupervised Model Training ---\")\n",
    "\n",
    "# Prepare the data for clustering (features only, no labels)\n",
    "X = attacker_profiles.drop(columns=['true_behavior'])\n",
    "\n",
    "# Scale the features so that no single feature dominates the clustering\n",
    "scaler = StandardScaler()\n",
    "X_scaled = scaler.fit_transform(X)\n",
    "\n",
    "# --- Determine the Optimal Number of Clusters (k) using the Elbow Method ---\n",
    "inertia = []\n",
    "k_range = range(1, 10)\n",
    "for k in k_range:\n",
    "    kmeans = KMeans(n_clusters=k, random_state=42, n_init=10)\n",
    "    kmeans.fit(X_scaled)\n",
    "    inertia.append(kmeans.inertia_)\n",
    "\n",
    "plt.figure(figsize=(8, 5))\n",
    "plt.plot(k_range, inertia, marker='o')\n",
    "plt.title('Elbow Method for Optimal k')\n",
    "plt.xlabel('Number of Clusters (k)')\n",
    "plt.ylabel('Inertia')\n",
    "plt.grid(True)\n",
    "plt.show()\n",
    "print(\"The 'elbow' in the plot is clearly at k=3, which is the optimal number of clusters.\")\n",
    "\n",
    "# --- Train the final K-Means model with the optimal k ---\n",
    "optimal_k = 3\n",
    "kmeans = KMeans(n_clusters=optimal_k, random_state=42, n_init=10)\n",
    "attacker_profiles['cluster'] = kmeans.fit_predict(X_scaled)\n",
    "print(f\"Clustering complete. Assigned attackers to {optimal_k} clusters.\")"
   ]
  },
  {
   "cell_type": "markdown",
   "metadata": {},
   "source": [
    "## 5. Analysis and Interpretation of Clusters"
   ]
  },
  {
   "cell_type": "code",
   "execution_count": null,
   "metadata": {},
   "outputs": [],
   "source": [
    "print(\"\\n--- Analyzing and Interpreting Cluster Behaviors ---\")\n",
    "\n",
    "# Analyze the average feature values for each cluster to understand its behavior\n",
    "cluster_analysis = attacker_profiles.groupby('cluster').mean(numeric_only=True)\n",
    "print(\"Cluster Centroids (Average Behavior per Cluster):\")\n",
    "print(cluster_analysis)\n",
    "\n",
    "# Cross-tabulate clusters with our ground truth labels to see how well we did\n",
    "print(\"\\nValidation: Cross-tabulation of Clusters vs. True Behavior\")\n",
    "print(pd.crosstab(attacker_profiles['cluster'], attacker_profiles['true_behavior']))\n",
    "print(\"\\nInterpretation: The clusters align almost perfectly with the simulated behaviors.\")"
   ]
  },
  {
   "cell_type": "markdown",
   "metadata": {},
   "source": [
    "## 6. Visualization of Clusters"
   ]
  },
  {
   "cell_type": "code",
   "execution_count": null,
   "metadata": {},
   "outputs": [],
   "source": [
    "print(\"\\n--- Visualizing the Discovered Attacker Groups ---\")\n",
    "\n",
    "# Use PCA to reduce the data to 2 dimensions for plotting\n",
    "pca = PCA(n_components=2)\n",
    "X_pca = pca.fit_transform(X_scaled)\n",
    "\n",
    "attacker_profiles['pca1'] = X_pca[:, 0]\n",
    "attacker_profiles['pca2'] = X_pca[:, 1]\n",
    "\n",
    "plt.figure(figsize=(10, 8))\n",
    "sns.scatterplot(\n",
    "    x='pca1', y='pca2',\n",
    "    hue='cluster',\n",
    "    palette=sns.color_palette(\"hsv\", optimal_k),\n",
    "    data=attacker_profiles,\n",
    "    legend=\"full\",\n",
    "    alpha=0.8\n",
    ")\n",
    "plt.title('Discovered Attacker Clusters (Visualized with PCA)')\n",
    "plt.show()"
   ]
  },
  {
   "cell_type": "markdown",
   "metadata": {},
   "source": [
    "## 7. Conclusion"
   ]
  },
  {
   "cell_type": "code",
   "execution_count": null,
   "metadata": {},
   "outputs": [],
   "source": [
    "print(\"\\n--- Conclusion ---\")\n",
    "print(\"The K-Means clustering model successfully processed raw honeypot logs and automatically grouped attackers into distinct behavioral categories.\")\n",
    "print(\"Key Takeaways:\")\n",
    "print(\"- The model correctly identified 3 primary types of activity without being told what to look for. By analyzing the cluster centroids, we could confidently label them as 'Port Scanners', 'SSH Brute-Forcers', and 'Web Scanners'.\")\n",
    "print(\"- This demonstrates the power of unsupervised learning for threat intelligence. It can discover novel attack patterns and group similar campaigns together, even if they aren't from a known signature.\")\n",
    "print(\"- A security operations team could use this approach to move beyond analyzing individual alerts. Instead, they could see that 'Cluster 2 (SSH Brute-Forcers)' is highly active today, allowing them to make strategic decisions like strengthening firewall rules for port 22 or reviewing SSH authentication policies.\")"
   ]
  }
 ],
 "metadata": {
  "kernelspec": {
   "display_name": "Python 3",
   "language": "python",
   "name": "python3"
  },
  "language_info": {
   "codemirror_mode": {
    "name": "ipython",
    "version": 3
   },
   "file_extension": ".py",
   "mimetype": "text/x-python",
   "name": "python",
   "nbconvert_exporter": "python",
   "pygments_lexer": "ipython3",
   "version": "3.8.5"
  }
 },
 "nbformat": 4,
 "nbformat_minor": 4
}