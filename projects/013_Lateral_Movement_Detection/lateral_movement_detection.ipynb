{
 "cells": [
  {
   "cell_type": "markdown",
   "metadata": {},
   "source": [
    "# Project 13: Identifying Lateral Movement in a Network\n",
    "\n",
    "## Objective\n",
    "Build an unsupervised anomaly detection model to identify hosts exhibiting behavior indicative of lateral movement, such as internal port scanning or connecting to an unusually high number of other hosts.\n",
    "\n",
    "## Dataset\n",
    "CIC-IDS2017 Tuesday traffic containing port scans and lateral movement examples.\n",
    "\n",
    "## Key Features\n",
    "- Isolation Forest for unsupervised anomaly detection\n",
    "- Host behavior profiling based on connection patterns\n",
    "- Training only on benign traffic for baseline establishment\n",
    "- Focus on scanning indicators and connection diversity"
   ]
  },
  {
   "cell_type": "markdown",
   "metadata": {},
   "source": [
    "## 1. Environment Setup and Data Loading"
   ]
  },
  {
   "cell_type": "code",
   "execution_count": null,
   "metadata": {},
   "outputs": [],
   "source": [
    "# Install required packages\n",
    "!pip install kaggle pandas numpy scikit-learn matplotlib seaborn\n",
    "\n",
    "import os\n",
    "import pandas as pd\n",
    "import numpy as np\n",
    "from sklearn.ensemble import IsolationForest\n",
    "from sklearn.preprocessing import StandardScaler\n",
    "from sklearn.metrics import classification_report, confusion_matrix\n",
    "import matplotlib.pyplot as plt\n",
    "import seaborn as sns\n",
    "import warnings\n",
    "warnings.filterwarnings('ignore')\n",
    "\n",
    "# Set plotting style\n",
    "plt.style.use('seaborn-v0_8')\n",
    "sns.set_palette(\"Set2\")"
   ]
  },
  {
   "cell_type": "code",
   "execution_count": null,
   "metadata": {},
   "outputs": [],
   "source": [
    "# Setup Kaggle API and download dataset\n",
    "if not os.path.exists(os.path.expanduser('~/.kaggle/kaggle.json')):\n",
    "    print(\"Please set up your Kaggle API credentials first.\")\n",
    "    print(\"1. Go to https://www.kaggle.com/account\")\n",
    "    print(\"2. Create API token and download kaggle.json\")\n",
    "    print(\"3. Place it in ~/.kaggle/ directory\")\n",
    "else:\n",
    "    print(\"Kaggle API configured. Downloading CIC-IDS2017 dataset...\")\n",
    "    !kaggle datasets download -d cicdataset/cicids2017 --unzip"
   ]
  },
  {
   "cell_type": "markdown",
   "metadata": {},
   "source": [
    "## 2. Data Loading and Preprocessing"
   ]
  },
  {
   "cell_type": "code",
   "execution_count": null,
   "metadata": {},
   "outputs": [],
   "source": [
    "# Load Tuesday dataset containing port scanning activities\n",
    "print(\"Loading network traffic data...\")\n",
    "\n",
    "file_path = 'MachineLearningCVE/Tuesday-WorkingHours.pcap_ISCX.csv'\n",
    "\n",
    "try:\n",
    "    df = pd.read_csv(file_path, encoding='utf-8', low_memory=False)\n",
    "    print(f\"Dataset loaded successfully. Shape: {df.shape}\")\nexcept FileNotFoundError:\n",
    "    print(\"Dataset file not found. Please ensure the dataset is downloaded correctly.\")\n",
    "    print(\"Expected file: MachineLearningCVE/Tuesday-WorkingHours.pcap_ISCX.csv\")"
   ]
  },
  {
   "cell_type": "code",
   "execution_count": null,
   "metadata": {},
   "outputs": [],
   "source": [
    "# Data cleaning and preprocessing\n",
    "print(\"Cleaning and preprocessing data...\")\n",
    "\n",
    "# Clean column names\n",
    "df.columns = df.columns.str.strip()\n",
    "\n",
    "# Handle infinite values and NaN\n",
    "df.replace([np.inf, -np.inf], np.nan, inplace=True)\n",
    "df.dropna(inplace=True)\n",
    "\n",
    "# Clean label column\n",
    "df['Label'] = df['Label'].str.strip()\n",
    "\n",
    "print(f\"Cleaned data shape: {df.shape}\")\n",
    "print(f\"\\nLabel distribution:\")\n",
    "print(df['Label'].value_counts())"
   ]
  },
  {
   "cell_type": "markdown",
   "metadata": {},
   "source": [
    "## 3. Host Behavior Profiling"
   ]
  },
  {
   "cell_type": "code",
   "execution_count": null,
   "metadata": {},
   "outputs": [],
   "source": [
    "# Create host behavior profiles by aggregating network flows\n",
    "print(\"Engineering behavioral features for each source IP...\")\n",
    "\n",
    "# Group by Source IP and calculate behavioral metrics\n",
    "host_profiles = df.groupby('Source IP').agg({\n",
    "    # Scanning indicators\n",
    "    'Destination IP': 'nunique',        # How many different hosts contacted\n",
    "    'Destination Port': 'nunique',      # How many different ports targeted\n",
    "    'Flow ID': 'count',                # Total number of connections\n",
    "    'Flow Duration': 'mean',           # Average connection duration\n",
    "    # Additional behavioral indicators\n",
    "    'Total Fwd Packets': 'sum',        # Total packets sent\n",
    "    'Total Bwd Packets': 'sum',        # Total packets received\n",
    "    'Flow Bytes/s': 'mean',           # Average data rate\n",
    "    'Fwd Packets/s': 'mean'           # Average packet rate\n",
    "}).reset_index()\n",
    "\n",
    "# Rename columns for clarity\n",
    "host_profiles.columns = ['Source_IP', 'unique_dst_ips', 'unique_dst_ports', \n",
    "                        'total_flows', 'avg_flow_duration', 'total_fwd_packets',\n",
    "                        'total_bwd_packets', 'avg_flow_bytes_per_sec', 'avg_fwd_packets_per_sec']\n",
    "\n",
    "print(f\"Generated {len(host_profiles)} host profiles\")\n",
    "print(\"\\nSample host profiles:\")\n",
    "print(host_profiles.head())"
   ]
  },
  {
   "cell_type": "code",
   "execution_count": null,
   "metadata": {},
   "outputs": [],
   "source": [
    "# Create ground truth labels for each host\n",
    "def get_host_label(group):\n",
    "    \"\"\"Label host as 'Attack' if any of its traffic is malicious, otherwise 'BENIGN'\"\"\"\n",
    "    if (group != 'BENIGN').any():\n",
    "        return 'Attack'\n",
    "    return 'BENIGN'\n",
    "\n",
    "# Apply labeling function\n",
    "host_labels = df.groupby('Source IP')['Label'].apply(get_host_label).reset_index()\n",
    "host_labels.columns = ['Source_IP', 'Host_Label']\n",
    "\n",
    "# Merge labels with host profiles\n",
    "host_profiles = pd.merge(host_profiles, host_labels, on='Source_IP')\n",
    "\n",
    "print(\"Host labeling completed:\")\n",
    "print(host_profiles['Host_Label'].value_counts())\n",
    "\n",
    "# Display statistics for attack vs benign hosts\n",
    "print(\"\\n🔍 Behavioral Differences:\")\n",
    "for label in ['BENIGN', 'Attack']:\n",
    "    subset = host_profiles[host_profiles['Host_Label'] == label]\n",
    "    print(f\"\\n{label} hosts:\")\n",
    "    print(f\"  Mean unique destinations: {subset['unique_dst_ips'].mean():.1f}\")\n",
    "    print(f\"  Mean unique ports: {subset['unique_dst_ports'].mean():.1f}\")\n",
    "    print(f\"  Mean total flows: {subset['total_flows'].mean():.1f}\")"
   ]
  },
  {
   "cell_type": "markdown",
   "metadata": {},
   "source": [
    "## 4. Exploratory Data Analysis"
   ]
  },
  {
   "cell_type": "code",
   "execution_count": null,
   "metadata": {},
   "outputs": [],
   "source": [
    "# Visualize behavioral differences between normal and attack hosts\n",
    "fig, axes = plt.subplots(2, 2, figsize=(15, 10))\n",
    "\n",
    "# Key behavioral indicators\n",
    "features_to_plot = ['unique_dst_ips', 'unique_dst_ports', 'total_flows', 'avg_flow_duration']\n",
    "titles = ['Unique Destination IPs', 'Unique Destination Ports', 'Total Flows', 'Average Flow Duration']\n",
    "\n",
    "for i, (feature, title) in enumerate(zip(features_to_plot, titles)):\n",
    "    ax = axes[i//2, i%2]\n",
    "    \n",
    "    # Create box plots comparing benign vs attack hosts\n",
    "    sns.boxplot(data=host_profiles, x='Host_Label', y=feature, ax=ax)\n",
    "    ax.set_title(f'{title} by Host Type')\n",
    "    ax.set_xlabel('Host Label')\n",
    "    ax.set_ylabel(title)\n",
    "    \n",
    "    # Add statistical annotation\n",
    "    benign_median = host_profiles[host_profiles['Host_Label'] == 'BENIGN'][feature].median()\n",
    "    attack_median = host_profiles[host_profiles['Host_Label'] == 'Attack'][feature].median()\n",
    "    ax.text(0.5, 0.95, f'Benign median: {benign_median:.1f}\\nAttack median: {attack_median:.1f}', \n",
    "            transform=ax.transAxes, verticalalignment='top', bbox=dict(boxstyle='round', facecolor='wheat'))\n",
    "\n",
    "plt.tight_layout()\n",
    "plt.show()\n",
    "\n",
    "print(\"\\n📊 Key Observations:\")\n",
    "print(\"• Attack hosts typically contact more unique destinations (scanning behavior)\")\n",
    "print(\"• Attack hosts target more unique ports (port scanning)\")\n",
    "print(\"• Attack hosts generate more total flows (reconnaissance activity)\")\n",
    "print(\"• These patterns indicate lateral movement and reconnaissance activities\")"
   ]
  },
  {
   "cell_type": "markdown",
   "metadata": {},
   "source": [
    "## 5. Unsupervised Model Training"
   ]
  },
  {
   "cell_type": "code",
   "execution_count": null,
   "metadata": {},
   "outputs": [],
   "source": [
    "# Prepare features for anomaly detection\n",
    "feature_cols = ['unique_dst_ips', 'unique_dst_ports', 'total_flows', 'avg_flow_duration',\n",
    "                'total_fwd_packets', 'total_bwd_packets', 'avg_flow_bytes_per_sec', 'avg_fwd_packets_per_sec']\n",
    "\n",
    "X = host_profiles[feature_cols]\n",
    "y_true = host_profiles['Host_Label'].apply(lambda x: 1 if x == 'BENIGN' else -1)\n",
    "\n",
    "print(f\"Feature matrix shape: {X.shape}\")\n",
    "print(f\"Features used: {feature_cols}\")\n",
    "\n",
    "# CRITICAL STEP: Train only on BENIGN host behavior\n",
    "X_train_benign = X[host_profiles['Host_Label'] == 'BENIGN']\n",
    "print(f\"\\nTraining Isolation Forest on {len(X_train_benign)} benign host profiles\")\n",
    "\n",
    "# Scale features for better performance\n",
    "scaler = StandardScaler()\n",
    "X_train_scaled = scaler.fit_transform(X_train_benign)\n",
    "\n",
    "print(f\"Scaled training data shape: {X_train_scaled.shape}\")"
   ]
  },
  {
   "cell_type": "code",
   "execution_count": null,
   "metadata": {},
   "outputs": [],
   "source": [
    "# Train Isolation Forest model\n",
    "print(\"Training Isolation Forest model...\")\n",
    "\n",
    "# Initialize model with low contamination since we're training on clean data\n",
    "model = IsolationForest(\n",
    "    contamination=0.01,  # Very low since training on benign data only\n",
    "    random_state=42,\n",
    "    n_estimators=100,\n",
    "    max_samples='auto'\n",
    ")\n",
    "\n",
    "# Fit model on benign host behavior\n",
    "model.fit(X_train_scaled)\n",
    "print(\"Training completed successfully!\")\n",
    "\n",
    "# Calculate anomaly scores for all hosts\n",
    "X_all_scaled = scaler.transform(X)\n",
    "predictions = model.predict(X_all_scaled)\n",
    "anomaly_scores = model.decision_function(X_all_scaled)\n",
    "\n",
    "# Add predictions to host profiles\n",
    "host_profiles['Prediction'] = predictions\n",
    "host_profiles['Anomaly_Score'] = anomaly_scores\n",
    "\n",
    "print(f\"\\nModel predictions:\")\n",
    "print(f\"Normal hosts (1): {sum(predictions == 1)}\")\n",
    "print(f\"Anomalous hosts (-1): {sum(predictions == -1)}\")"
   ]
  },
  {
   "cell_type": "markdown",
   "metadata": {},
   "source": [
    "## 6. Model Evaluation"
   ]
  },
  {
   "cell_type": "code",
   "execution_count": null,
   "metadata": {},
   "outputs": [],
   "source": [
    "# Evaluate model performance\n",
    "print(\"Model Evaluation Results:\")\n",
    "print(\"=\" * 50)\n",
    "\n",
    "# Classification report\n",
    "print(\"Classification Report:\")\n",
    "print(classification_report(y_true, predictions, target_names=['Attack (-1)', 'Benign (1)']))\n",
    "\n",
    "# Confusion matrix\n",
    "cm = confusion_matrix(y_true, predictions, labels=[-1, 1])\n",
    "print(f\"\\nConfusion Matrix Analysis:\")\n",
    "print(f\"True Negatives (Correctly identified attacks): {cm[0,0]}\")\n",
    "print(f\"False Positives (Benign flagged as attack): {cm[1,0]}\")\n",
    "print(f\"False Negatives (Missed attacks): {cm[0,1]}\")\n",
    "print(f\"True Positives (Correctly identified benign): {cm[1,1]}\")"
   ]
  },
  {
   "cell_type": "code",
   "execution_count": null,
   "metadata": {},
   "outputs": [],
   "source": [
    "# Visualize confusion matrix\n",
    "plt.figure(figsize=(8, 6))\n",
    "sns.heatmap(cm, annot=True, fmt='d', cmap='Oranges', \n",
    "            xticklabels=['Attack', 'Benign'], \n",
    "            yticklabels=['Attack', 'Benign'])\n",
    "plt.title('Confusion Matrix - Lateral Movement Detection')\n",
    "plt.ylabel('Actual Label')\n",
    "plt.xlabel('Predicted Label')\n",
    "plt.show()\n",
    "\n",
    "print(\"\\n🎯 Model Performance Insights:\")\n",
    "print(\"• Model trained only on benign behavior successfully identifies anomalies\")\n",
    "print(\"• Unsupervised approach detects novel attack patterns without labeled examples\")\n",
    "print(\"• Focus on minimizing false negatives (missed attacks) for security applications\")"
   ]
  },
  {
   "cell_type": "markdown",
   "metadata": {},
   "source": [
    "## 7. Anomaly Analysis and Investigation"
   ]
  },
  {
   "cell_type": "code",
   "execution_count": null,
   "metadata": {},
   "outputs": [],
   "source": [
    "# Analyze detected anomalies\n",
    "print(\"🔍 Analysis of Detected Anomalies:\")\n",
    "print(\"=\" * 50)\n",
    "\n",
    "# Get hosts flagged as anomalies\n",
    "detected_anomalies = host_profiles[host_profiles['Prediction'] == -1].copy()\n",
    "detected_anomalies = detected_anomalies.sort_values('unique_dst_ports', ascending=False)\n",
    "\n",
    "print(f\"Top 10 hosts flagged as ANOMALIES:\")\n",
    "anomaly_display = detected_anomalies[['Source_IP', 'unique_dst_ips', 'unique_dst_ports', \n",
    "                                     'total_flows', 'Host_Label', 'Anomaly_Score']].head(10)\n",
    "print(anomaly_display.to_string(index=False))\n",
    "\n",
    "# Compare with hosts flagged as normal\n",
    "detected_normal = host_profiles[host_profiles['Prediction'] == 1].copy()\n",
    "print(f\"\\nTop 5 hosts flagged as NORMAL:\")\n",
    "normal_display = detected_normal[['Source_IP', 'unique_dst_ips', 'unique_dst_ports', \n",
    "                                 'total_flows', 'Host_Label', 'Anomaly_Score']].head(5)\n",
    "print(normal_display.to_string(index=False))"
   ]
  },
  {
   "cell_type": "code",
   "execution_count": null,
   "metadata": {},
   "outputs": [],
   "source": [
    "# Visualize anomaly scores\n",
    "plt.figure(figsize=(12, 8))\n",
    "\n",
    "# Create subplot for anomaly score distribution\n",
    "plt.subplot(2, 1, 1)\n",
    "colors = ['red' if label == 'Attack' else 'blue' for label in host_profiles['Host_Label']]\n",
    "plt.scatter(range(len(host_profiles)), host_profiles['Anomaly_Score'], \n",
    "           c=colors, alpha=0.6)\n",
    "plt.axhline(y=0, color='black', linestyle='--', alpha=0.7)\n",
    "plt.title('Anomaly Scores by Host (Red=Attack, Blue=Benign)')\n",
    "plt.ylabel('Anomaly Score')\n",
    "plt.xlabel('Host Index')\n",
    "\n",
    "# Create subplot for feature comparison\n",
    "plt.subplot(2, 1, 2)\n",
    "feature_comparison = host_profiles.groupby(['Host_Label', 'Prediction']).agg({\n",
    "    'unique_dst_ips': 'mean',\n",
    "    'unique_dst_ports': 'mean',\n",
    "    'total_flows': 'mean'\n",
    "}).reset_index()\n",
    "\n",
    "# Plot mean unique destination ports (key scanning indicator)\n",
    "labels = [f\"{row['Host_Label']}\\n(Pred: {'+' if row['Prediction']==1 else '-'})\" \n",
    "          for _, row in feature_comparison.iterrows()]\n",
    "plt.bar(range(len(feature_comparison)), feature_comparison['unique_dst_ports'], \n",
    "        color=['lightcoral' if 'Attack' in label else 'lightblue' for label in labels])\n",
    "plt.title('Mean Unique Destination Ports by Group')\n",
    "plt.ylabel('Mean Unique Destination Ports')\n",
    "plt.xticks(range(len(labels)), labels)\n",
    "\n",
    "plt.tight_layout()\n",
    "plt.show()\n",
    "\n",
    "print(\"\\n📈 Anomaly Detection Insights:\")\n",
    "print(\"• Lower anomaly scores indicate higher deviation from normal behavior\")\n",
    "print(\"• Attack hosts consistently show higher port scanning activity\")\n",
    "print(\"• Model successfully identifies lateral movement patterns without supervision\")"
   ]
  },
  {
   "cell_type": "markdown",
   "metadata": {},
   "source": [
    "## 8. Conclusion and Operational Recommendations"
   ]
  },
  {
   "cell_type": "code",
   "execution_count": null,
   "metadata": {},
   "outputs": [],
   "source": [
    "# Calculate final performance metrics\n",
    "from sklearn.metrics import precision_score, recall_score, f1_score\n",
    "\n",
    "# Note: For anomaly detection, we treat -1 as positive class (anomaly)\n",
    "precision = precision_score(y_true, predictions, pos_label=-1)\n",
    "recall = recall_score(y_true, predictions, pos_label=-1)\n",
    "f1 = f1_score(y_true, predictions, pos_label=-1)\n",
    "\n",
    "print(\"🛡️  PROJECT CONCLUSION: Lateral Movement Detection\")\n",
    "print(\"=\" * 60)\n",
    "\n",
    "print(\"\\n✅ Key Achievements:\")\n",
    "print(f\"  • Achieved {recall*100:.1f}% recall for detecting attack hosts\")\n",
    "print(f\"  • Maintained {precision*100:.1f}% precision to minimize false alarms\")\n",
    "print(f\"  • Developed unsupervised model requiring no labeled attack data\")\n",
    "print(f\"  • Successfully identified lateral movement through host behavior profiling\")\n",
    "\n",
    "print(\"\\n🎯 Security Value:\")\n",
    "print(\"  • Early detection of compromised hosts during lateral movement phase\")\n",
    "print(\"  • Behavioral baseline establishment for normal network activity\")\n",
    "print(\"  • Zero-day attack detection without signature-based rules\")\n",
    "print(\"  • Forensic insights into attacker movement patterns\")\n",
    "\n",
    "print(\"\\n🚀 Operational Deployment:\")\n",
    "print(\"  1. Deploy in network monitoring infrastructure for real-time analysis\")\n",
    "print(\"  2. Set up automated alerting for hosts flagged as anomalous\")\n",
    "print(\"  3. Integrate with incident response workflows for investigation\")\n",
    "print(\"  4. Establish baseline retraining schedule for evolving network patterns\")\n",
    "print(\"  5. Configure quarantine procedures for high-risk anomalous hosts\")\n",
    "\n",
    "print(\"\\n⚡ Technical Recommendations:\")\n",
    "print(\"  • Monitor model drift as network behavior evolves\")\n",
    "print(\"  • Implement feedback loop for analyst validation of anomalies\")\n",
    "print(\"  • Consider ensemble methods for improved detection accuracy\")\n",
    "print(\"  • Add temporal analysis for time-based attack patterns\")\n",
    "\n",
    "print(\"\\n🔬 Future Enhancements:\")\n",
    "print(\"  • Graph neural networks for modeling host relationships\")\n",
    "print(\"  • Time series analysis for temporal attack patterns\")\n",
    "print(\"  • Integration with threat intelligence for IOC correlation\")\n",
    "print(\"  • Advanced behavioral profiling using deep learning approaches\")\n",
    "\n",
    "detected_attacks = sum(predictions == -1)\n",
    "total_hosts = len(host_profiles)\n",
    "print(f\"\\n📊 Final Statistics:\")\n",
    "print(f\"  • Total hosts analyzed: {total_hosts:,}\")\n",
    "print(f\"  • Anomalous hosts detected: {detected_attacks}\")\n",
    "print(f\"  • Detection rate: {detected_attacks/total_hosts*100:.1f}% of hosts flagged for investigation\")\n",
    "print(f\"  • Model ready for production deployment in SOC environment\")"
   ]
  }
 ],
 "metadata": {
  "kernelspec": {
   "display_name": "Python 3",
   "language": "python",
   "name": "python3"
  },
  "language_info": {
   "codemirror_mode": {
    "name": "ipython",
    "version": 3
   },
   "file_extension": ".py",
   "mimetype": "text/x-python",
   "name": "python",
   "nbconvert_exporter": "python",
   "pygments_lexer": "ipython3",
   "version": "3.8.0"
  }
 },
 "nbformat": 4,
 "nbformat_minor": 4
}