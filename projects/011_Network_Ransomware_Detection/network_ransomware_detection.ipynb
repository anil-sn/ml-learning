{
 "cells": [
  {
   "cell_type": "markdown",
   "metadata": {},
   "source": [
    "# Project 11: Network-based Ransomware Detection\n",
    "\n",
    "## Objective\n",
    "Build a machine learning model that can identify network traffic patterns associated with ransomware activity, distinguishing them from normal, benign traffic.\n",
    "\n",
    "## Dataset\n",
    "We use the CIC-IDS2017 dataset from Kaggle, which contains real network traffic including WannaCry ransomware samples.\n",
    "\n",
    "## Key Features\n",
    "- Handling extreme class imbalance (ransomware events are rare)\n",
    "- RandomForestClassifier with balanced class weights\n",
    "- Focus on recall to minimize missed attacks\n",
    "- Network forensics through feature importance analysis"
   ]
  },
  {
   "cell_type": "markdown",
   "metadata": {},
   "source": [
    "## 1. Environment Setup and Data Loading"
   ]
  },
  {
   "cell_type": "code",
   "execution_count": null,
   "metadata": {},
   "outputs": [],
   "source": [
    "# Install required packages\n",
    "!pip install kaggle pandas numpy scikit-learn matplotlib seaborn\n",
    "\n",
    "import os\n",
    "import pandas as pd\n",
    "import numpy as np\n",
    "from sklearn.model_selection import train_test_split\n",
    "from sklearn.ensemble import RandomForestClassifier\n",
    "from sklearn.metrics import classification_report, confusion_matrix\n",
    "import matplotlib.pyplot as plt\n",
    "import seaborn as sns\n",
    "import warnings\n",
    "warnings.filterwarnings('ignore')\n",
    "\n",
    "# Set up plotting style\n",
    "plt.style.use('seaborn-v0_8')\n",
    "sns.set_palette(\"husl\")"
   ]
  },
  {
   "cell_type": "code",
   "execution_count": null,
   "metadata": {},
   "outputs": [],
   "source": [
    "# Setup Kaggle API (requires kaggle.json in ~/.kaggle/)\n",
    "if not os.path.exists(os.path.expanduser('~/.kaggle/kaggle.json')):\n",
    "    print(\"Please set up your Kaggle API credentials first.\")\n",
    "    print(\"1. Go to https://www.kaggle.com/account\")\n",
    "    print(\"2. Create API token and download kaggle.json\")\n",
    "    print(\"3. Place it in ~/.kaggle/ directory\")\n",
    "else:\n",
    "    print(\"Kaggle API configured. Downloading dataset...\")\n",
    "    !kaggle datasets download -d cicdataset/cicids2017 --unzip"
   ]
  },
  {
   "cell_type": "markdown",
   "metadata": {},
   "source": [
    "## 2. Data Loading and Preprocessing"
   ]
  },
  {
   "cell_type": "code",
   "execution_count": null,
   "metadata": {},
   "outputs": [],
   "source": [
    "# Load the datasets\n",
    "print(\"Loading network traffic data...\")\n",
    "\n",
    "# Benign traffic from Monday working hours\n",
    "benign_path = 'MachineLearningCVE/Monday-WorkingHours.pcap_ISCX.csv'\n",
    "# Ransomware traffic from Friday morning (includes WannaCry)\n",
    "ransomware_path = 'MachineLearningCVE/Friday-WorkingHours-Morning.pcap_ISCX.csv'\n",
    "\n",
    "try:\n",
    "    df_benign = pd.read_csv(benign_path, encoding='utf-8', low_memory=False)\n",
    "    df_ransomware = pd.read_csv(ransomware_path, encoding='utf-8', low_memory=False)\n",
    "    print(f\"Benign traffic shape: {df_benign.shape}\")\n",
    "    print(f\"Ransomware traffic shape: {df_ransomware.shape}\")\nexcept FileNotFoundError:\n",
    "    print(\"Dataset files not found. Please ensure the dataset is downloaded correctly.\")\n",
    "    print(\"Expected files:\")\n",
    "    print(\"- MachineLearningCVE/Monday-WorkingHours.pcap_ISCX.csv\")\n",
    "    print(\"- MachineLearningCVE/Friday-WorkingHours-Morning.pcap_ISCX.csv\")"
   ]
  },
  {
   "cell_type": "code",
   "execution_count": null,
   "metadata": {},
   "outputs": [],
   "source": [
    "# Prepare labels\n",
    "df_benign['Label'] = 'Benign'\n",
    "# Friday file contains multiple attack types - we'll focus on ransomware vs benign\n",
    "df_ransomware['Label'] = df_ransomware[' Label'].apply(\n",
    "    lambda x: 'Benign' if x.strip() == 'BENIGN' else 'Ransomware'\n",
    ")\n",
    "\n",
    "# Combine datasets\n",
    "df = pd.concat([df_benign, df_ransomware], ignore_index=True)\n",
    "print(f\"Combined dataset shape: {df.shape}\")\n",
    "\n",
    "# Clean column names\n",
    "df.columns = df.columns.str.strip()\n",
    "print(\"Column names cleaned.\")"
   ]
  },
  {
   "cell_type": "code",
   "execution_count": null,
   "metadata": {},
   "outputs": [],
   "source": [
    "# Data cleaning\n",
    "print(\"Cleaning data...\")\n",
    "print(f\"Shape before cleaning: {df.shape}\")\n",
    "\n",
    "# Handle infinite values\n",
    "df.replace([np.inf, -np.inf], np.nan, inplace=True)\n",
    "\n",
    "# Remove rows with NaN values\n",
    "df.dropna(inplace=True)\n",
    "print(f\"Shape after removing NaN/infinite values: {df.shape}\")\n",
    "\n",
    "# Encode labels: Ransomware -> 1, Benign -> 0\n",
    "df['Label'] = df['Label'].apply(lambda x: 1 if x == 'Ransomware' else 0)\n",
    "\n",
    "# Check class distribution\n",
    "print(\"\\nClass Distribution:\")\n",
    "class_counts = df['Label'].value_counts()\n",
    "print(f\"Benign (0): {class_counts[0]:,}\")\n",
    "print(f\"Ransomware (1): {class_counts[1]:,}\")\n",
    "print(f\"Imbalance ratio: {class_counts[0]/class_counts[1]:.1f}:1\")"
   ]
  },
  {
   "cell_type": "markdown",
   "metadata": {},
   "source": [
    "## 3. Handling Class Imbalance"
   ]
  },
  {
   "cell_type": "code",
   "execution_count": null,
   "metadata": {},
   "outputs": [],
   "source": [
    "# Address extreme class imbalance through downsampling\n",
    "print(\"Addressing class imbalance...\")\n",
    "\n",
    "df_majority = df[df['Label'] == 0]  # Benign\n",
    "df_minority = df[df['Label'] == 1]  # Ransomware\n",
    "\n",
    "# Downsample majority class to 5x the minority class size\n",
    "df_majority_downsampled = df_majority.sample(n=len(df_minority)*5, random_state=42)\n",
    "df_balanced = pd.concat([df_majority_downsampled, df_minority])\n",
    "\n",
    "print(\"\\nClass distribution after downsampling:\")\n",
    "balanced_counts = df_balanced['Label'].value_counts()\n",
    "print(f\"Benign (0): {balanced_counts[0]:,}\")\n",
    "print(f\"Ransomware (1): {balanced_counts[1]:,}\")\n",
    "print(f\"New ratio: {balanced_counts[0]/balanced_counts[1]:.1f}:1\")\n",
    "\n",
    "# Use balanced dataset for training\n",
    "df = df_balanced"
   ]
  },
  {
   "cell_type": "markdown",
   "metadata": {},
   "source": [
    "## 4. Feature Preparation and Data Splitting"
   ]
  },
  {
   "cell_type": "code",
   "execution_count": null,
   "metadata": {},
   "outputs": [],
   "source": [
    "# Prepare features and target\n",
    "X = df.drop(columns=['Label'])\n",
    "y = df['Label']\n",
    "\n",
    "print(f\"Feature matrix shape: {X.shape}\")\n",
    "print(f\"Target vector shape: {y.shape}\")\n",
    "\n",
    "# Stratified split to maintain class ratio\n",
    "X_train, X_test, y_train, y_test = train_test_split(\n",
    "    X, y, test_size=0.3, random_state=42, stratify=y\n",
    ")\n",
    "\n",
    "print(f\"\\nTraining set: {X_train.shape[0]:,} samples\")\n",
    "print(f\"Test set: {X_test.shape[0]:,} samples\")\n",
    "print(f\"Training class distribution:\")\n",
    "print(y_train.value_counts().sort_index())"
   ]
  },
  {
   "cell_type": "markdown",
   "metadata": {},
   "source": [
    "## 5. Model Training"
   ]
  },
  {
   "cell_type": "code",
   "execution_count": null,
   "metadata": {},
   "outputs": [],
   "source": [
    "# Initialize RandomForest with balanced class weights\n",
    "print(\"Training RandomForest Classifier...\")\n",
    "\n",
    "model = RandomForestClassifier(\n",
    "    n_estimators=100,\n",
    "    random_state=42,\n",
    "    class_weight='balanced',  # Critical for handling remaining imbalance\n",
    "    n_jobs=-1,\n",
    "    max_depth=15,  # Prevent overfitting\n",
    "    min_samples_split=10,\n",
    "    min_samples_leaf=5\n",
    ")\n",
    "\n",
    "# Fit the model\n",
    "model.fit(X_train, y_train)\n",
    "print(\"Training completed successfully!\")"
   ]
  },
  {
   "cell_type": "markdown",
   "metadata": {},
   "source": [
    "## 6. Model Evaluation"
   ]
  },
  {
   "cell_type": "code",
   "execution_count": null,
   "metadata": {},
   "outputs": [],
   "source": [
    "# Make predictions\n",
    "y_pred = model.predict(X_test)\n",
    "y_pred_proba = model.predict_proba(X_test)[:, 1]\n",
    "\n",
    "# Classification report\n",
    "print(\"Classification Report:\")\n",
    "print(\"=\" * 50)\n",
    "print(classification_report(y_test, y_pred, target_names=['Benign (0)', 'Ransomware (1)']))\n",
    "\n",
    "# Confusion matrix\n",
    "print(\"\\nConfusion Matrix Analysis:\")\n",
    "cm = confusion_matrix(y_test, y_pred)\n",
    "print(f\"True Negatives (Correctly identified benign): {cm[0,0]}\")\n",
    "print(f\"False Positives (Benign flagged as ransomware): {cm[0,1]}\")\n",
    "print(f\"False Negatives (Missed ransomware - CRITICAL): {cm[1,0]}\")\n",
    "print(f\"True Positives (Correctly identified ransomware): {cm[1,1]}\")"
   ]
  },
  {
   "cell_type": "code",
   "execution_count": null,
   "metadata": {},
   "outputs": [],
   "source": [
    "# Visualize confusion matrix\n",
    "plt.figure(figsize=(8, 6))\n",
    "sns.heatmap(cm, annot=True, fmt='d', cmap='Reds', \n",
    "            xticklabels=['Benign', 'Ransomware'], \n",
    "            yticklabels=['Benign', 'Ransomware'])\n",
    "plt.title('Confusion Matrix - Network Ransomware Detection')\n",
    "plt.ylabel('Actual Label')\n",
    "plt.xlabel('Predicted Label')\n",
    "plt.show()\n",
    "\n",
    "print(\"⚠️  False Negatives (bottom-left) are the most dangerous metric!\")\n",
    "print(\"   These represent real ransomware attacks that were missed.\")"
   ]
  },
  {
   "cell_type": "markdown",
   "metadata": {},
   "source": [
    "## 7. Feature Importance Analysis"
   ]
  },
  {
   "cell_type": "code",
   "execution_count": null,
   "metadata": {},
   "outputs": [],
   "source": [
    "# Extract feature importances\n",
    "feature_importance = pd.DataFrame({\n",
    "    'feature': X.columns,\n",
    "    'importance': model.feature_importances_\n",
    "}).sort_values('importance', ascending=False)\n",
    "\n",
    "# Display top 15 most important features\n",
    "print(\"Top 15 Most Important Features for Ransomware Detection:\")\n",
    "print(\"=\" * 60)\n",
    "for i, (feature, importance) in enumerate(feature_importance.head(15).values):\n",
    "    print(f\"{i+1:2d}. {feature:<35} {importance:.4f}\")"
   ]
  },
  {
   "cell_type": "code",
   "execution_count": null,
   "metadata": {},
   "outputs": [],
   "source": [
    "# Visualize feature importance\n",
    "plt.figure(figsize=(12, 8))\n",
    "top_15_features = feature_importance.head(15)\n",
    "\n",
    "plt.barh(range(len(top_15_features)), top_15_features['importance'].values, color='darkred')\n",
    "plt.yticks(range(len(top_15_features)), top_15_features['feature'].values)\n",
    "plt.xlabel('Feature Importance')\n",
    "plt.title('Top 15 Network Features for Ransomware Detection')\n",
    "plt.gca().invert_yaxis()\n",
    "plt.tight_layout()\n",
    "plt.show()\n",
    "\n",
    "print(\"\\n🔍 Network Forensics Insights:\")\n",
    "print(\"• Flow timing features (IAT) are highly predictive\")\n",
    "print(\"• Packet flags (URG, PSH) reveal ransomware communication patterns\")\n",
    "print(\"• Flow duration and idle times show scanning behavior\")\n",
    "print(\"• These patterns enable early detection before file encryption\")"
   ]
  },
  {
   "cell_type": "markdown",
   "metadata": {},
   "source": [
    "## 8. Model Performance Analysis"
   ]
  },
  {
   "cell_type": "code",
   "execution_count": null,
   "metadata": {},
   "outputs": [],
   "source": [
    "# Performance metrics calculation\n",
    "from sklearn.metrics import accuracy_score, precision_score, recall_score, f1_score, roc_auc_score\n",
    "\n",
    "accuracy = accuracy_score(y_test, y_pred)\n",
    "precision = precision_score(y_test, y_pred)\n",
    "recall = recall_score(y_test, y_pred)\n",
    "f1 = f1_score(y_test, y_pred)\n",
    "auc = roc_auc_score(y_test, y_pred_proba)\n",
    "\n",
    "print(\"🎯 Model Performance Summary:\")\n",
    "print(\"=\" * 40)\n",
    "print(f\"Accuracy:  {accuracy:.3f} ({accuracy*100:.1f}%)\")\n",
    "print(f\"Precision: {precision:.3f} ({precision*100:.1f}%)\")\n",
    "print(f\"Recall:    {recall:.3f} ({recall*100:.1f}%) ← Most Critical\")\n",
    "print(f\"F1-Score:  {f1:.3f}\")\n",
    "print(f\"AUC-ROC:   {auc:.3f}\")\n",
    "\n",
    "print(f\"\\n📊 Business Impact:\")\n",
    "print(f\"• Catches {recall*100:.1f}% of ransomware attacks\")\n",
    "print(f\"• {precision*100:.1f}% of alerts are true positives\")\n",
    "print(f\"• Missed attacks: {cm[1,0]} out of {cm[1,0] + cm[1,1]} total\")"
   ]
  },
  {
   "cell_type": "markdown",
   "metadata": {},
   "source": [
    "## 9. Conclusion and Next Steps"
   ]
  },
  {
   "cell_type": "code",
   "execution_count": null,
   "metadata": {},
   "outputs": [],
   "source": [
    "print(\"🛡️  PROJECT CONCLUSION: Network-based Ransomware Detection\")\n",
    "print(\"=\" * 70)\n",
    "\n",
    "print(\"\\n✅ Key Achievements:\")\n",
    "print(f\"  • Developed ML model with {recall*100:.1f}% recall for ransomware detection\")\n",
    "print(f\"  • Successfully handled extreme class imbalance (original ratio >1000:1)\")\n",
    "print(f\"  • Identified key network indicators: flow timing, packet flags, idle patterns\")\n",
    "print(f\"  • Created interpretable model for security analyst investigations\")\n",
    "\n",
    "print(\"\\n🎯 Security Value:\")\n",
    "print(\"  • Early warning system before file encryption occurs\")\n",
    "print(\"  • Network-level detection complements endpoint solutions\")\n",
    "print(\"  • Forensic insights for threat hunting and incident response\")\n",
    "print(\"  • Foundation for automated quarantine and response workflows\")\n",
    "\n",
    "print(\"\\n🚀 Next Steps for Production:\")\n",
    "print(\"  1. Deploy in network monitoring infrastructure\")\n",
    "print(\"  2. Integrate with SIEM for automated alerting\")\n",
    "print(\"  3. Implement real-time stream processing\")\n",
    "print(\"  4. Add model retraining pipeline for new ransomware variants\")\n",
    "print(\"  5. Develop threat intelligence integration\")\n",
    "\n",
    "print(\"\\n⚡ Technical Recommendations:\")\n",
    "print(\"  • Monitor model performance for concept drift\")\n",
    "print(\"  • Implement ensemble methods for improved robustness\")\n",
    "print(\"  • Add temporal analysis for sequential attack patterns\")\n",
    "print(\"  • Consider deep learning for complex attack variants\")"
   ]
  }
 ],
 "metadata": {
  "kernelspec": {
   "display_name": "Python 3",
   "language": "python",
   "name": "python3"
  },
  "language_info": {
   "codemirror_mode": {
    "name": "ipython",
    "version": 3
   },
   "file_extension": ".py",
   "mimetype": "text/x-python",
   "name": "python",
   "nbconvert_exporter": "python",
   "pygments_lexer": "ipython3",
   "version": "3.8.0"
  }
 },
 "nbformat": 4,
 "nbformat_minor": 4
}