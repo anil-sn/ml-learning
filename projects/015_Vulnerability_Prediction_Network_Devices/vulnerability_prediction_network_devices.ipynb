{
 "cells": [
  {
   "cell_type": "markdown",
   "metadata": {},
   "source": [
    "# Project 15: Vulnerability Prediction in Network Devices\n",
    "\n",
    "**Objective:** To build an interpretable model that can predict whether a network device is vulnerable based on its software version string.\n",
    "\n",
    "**Dataset Source:** **Synthetically Generated**. We will create a dataset of network devices with various software versions and programmatically label some as 'vulnerable' based on predefined rules (e.g., older versions are more likely to be vulnerable).\n",
    "\n",
    "**Model:** We will use a **Decision Tree Classifier**. This model is an excellent choice because its internal logic is highly transparent. We will be able to visualize the exact rules (e.g., \"IF major_version < 15.2 AND IF device_type is 'Firewall', THEN predict 'vulnerable'\") the model has learned, making it perfect for explaining decisions to a security team.\n",
    "\n",
    "**Instructions:**\n",
    "This notebook is fully self-contained and does not require any external files or APIs. Simply run the entire code block in Google Colab."
   ]
  },
  {
   "cell_type": "markdown",
   "metadata": {},
   "source": [
    "## 1. Import Necessary Libraries"
   ]
  },
  {
   "cell_type": "code",
   "execution_count": null,
   "metadata": {},
   "outputs": [],
   "source": [
    "import pandas as pd\n",
    "import numpy as np\n",
    "import re\n",
    "from sklearn.model_selection import train_test_split\n",
    "from sklearn.tree import DecisionTreeClassifier, plot_tree\n",
    "from sklearn.preprocessing import LabelEncoder\n",
    "from sklearn.metrics import classification_report, confusion_matrix\n",
    "import matplotlib.pyplot as plt\n",
    "import seaborn as sns"
   ]
  },
  {
   "cell_type": "markdown",
   "metadata": {},
   "source": [
    "## 2. Synthetic Data Generation"
   ]
  },
  {
   "cell_type": "code",
   "execution_count": null,
   "metadata": {},
   "outputs": [],
   "source": [
    "print(\"--- Generating Synthetic Network Device Dataset ---\")\n",
    "\n",
    "# Define some device types and software version patterns\n",
    "devices = {\n",
    "    'CISCO_ROUTER': ['15.1(4)M', '15.2(1)T', '15.5(3)S', '16.1.1', '16.3.2'],\n",
    "    'JUNIPER_FIREWALL': ['18.4R1', '19.2R2', '20.1R1', '20.4R3', '21.2R1'],\n",
    "    'ARISTA_SWITCH': ['4.20.6M', '4.21.5F', '4.22.1F', '4.23.0F', '4.25.1M']\n",
    "}\n",
    "\n",
    "# Generate a list of device records\n",
    "data = []\n",
    "for device, versions in devices.items():\n",
    "    for version in versions:\n",
    "        # Generate 100 devices for each version\n",
    "        for _ in range(100):\n",
    "            data.append([device, version])\n",
    "\n",
    "df = pd.DataFrame(data, columns=['device_type', 'software_version'])\n",
    "\n",
    "# --- Define Vulnerability Rules ---\n",
    "# This is our ground truth. In the real world, this would come from vulnerability scanners.\n",
    "def is_vulnerable(row):\n",
    "    if 'CISCO' in row['device_type'] and ('15.1' in row['software_version'] or '15.2' in row['software_version']):\n",
    "        return 1\n",
    "    if 'JUNIPER' in row['device_type'] and ('18.4' in row['software_version'] or '19.2' in row['software_version']):\n",
    "        return 1\n",
    "    if 'ARISTA' in row['device_type'] and '4.20' in row['software_version']:\n",
    "        return 1\n",
    "    return 0 # Not vulnerable\n",
    "\n",
    "df['is_vulnerable'] = df.apply(is_vulnerable, axis=1)\n",
    "# Add some random noise to make it more realistic\n",
    "noise = np.random.choice([0, 1], size=len(df), p=[0.95, 0.05])\n",
    "df['is_vulnerable'] = df['is_vulnerable'] | noise\n",
    "\n",
    "print(\"Dataset generation complete. Sample:\")\n",
    "print(df.sample(5))\n",
    "print(\"\\nClass Distribution:\")\n",
    "print(df['is_vulnerable'].value_counts())"
   ]
  },
  {
   "cell_type": "markdown",
   "metadata": {},
   "source": [
    "## 3. Feature Engineering from Version Strings"
   ]
  },
  {
   "cell_type": "code",
   "execution_count": null,
   "metadata": {},
   "outputs": [],
   "source": [
    "print(\"\\n--- Engineering Numerical Features from Version Strings ---\")\n",
    "\n",
    "# This function uses regex to parse complex version strings into numerical features.\n",
    "def parse_version(version):\n",
    "    # Match patterns like 15.1(4)M -> [15, 1, 4] or 20.4R3 -> [20, 4, 3]\n",
    "    parts = re.findall(r'(\\d+)', version)\n",
    "    parts = [int(p) for p in parts]\n",
    "    # Ensure all feature vectors have the same length\n",
    "    while len(parts) < 3:\n",
    "        parts.append(0)\n",
    "    return parts[:3]\n",
    "\n",
    "# Apply the parsing function\n",
    "version_features = df['software_version'].apply(parse_version)\n",
    "df[['v_major', 'v_minor', 'v_patch']] = pd.DataFrame(version_features.tolist(), index=df.index)\n",
    "\n",
    "print(\"Feature engineering complete. Sample with new features:\")\n",
    "print(df.sample(5))"
   ]
  },
  {
   "cell_type": "markdown",
   "metadata": {},
   "source": [
    "## 4. Data Splitting and Encoding"
   ]
  },
  {
   "cell_type": "code",
   "execution_count": null,
   "metadata": {},
   "outputs": [],
   "source": [
    "print(\"\\n--- Splitting and Encoding Data ---\")\n",
    "\n",
    "# One-hot encode the 'device_type'\n",
    "df_encoded = pd.get_dummies(df, columns=['device_type'], drop_first=True)\n",
    "\n",
    "feature_cols = [col for col in df_encoded.columns if col not in ['software_version', 'is_vulnerable']]\n",
    "X = df_encoded[feature_cols]\n",
    "y = df_encoded['is_vulnerable']\n",
    "\n",
    "X_train, X_test, y_train, y_test = train_test_split(X, y, test_size=0.3, random_state=42, stratify=y)\n",
    "print(f\"X_train shape: {X_train.shape}, X_test shape: {X_test.shape}\")"
   ]
  },
  {
   "cell_type": "markdown",
   "metadata": {},
   "source": [
    "## 5. Model Training"
   ]
  },
  {
   "cell_type": "code",
   "execution_count": null,
   "metadata": {},
   "outputs": [],
   "source": [
    "print(\"\\n--- Model Training ---\")\n",
    "model = DecisionTreeClassifier(random_state=42, max_depth=4) # Limit depth to keep the tree interpretable\n",
    "\n",
    "print(\"Training the Decision Tree model...\")\n",
    "model.fit(X_train, y_train)\n",
    "print(\"Training complete.\")"
   ]
  },
  {
   "cell_type": "markdown",
   "metadata": {},
   "source": [
    "## 6. Model Evaluation"
   ]
  },
  {
   "cell_type": "code",
   "execution_count": null,
   "metadata": {},
   "outputs": [],
   "source": [
    "print(\"\\n--- Model Evaluation ---\")\n",
    "y_pred = model.predict(X_test)\n",
    "\n",
    "print(\"\\nClassification Report:\")\n",
    "print(classification_report(y_test, y_pred, target_names=['Not Vulnerable (0)', 'Vulnerable (1)']))\n",
    "\n",
    "print(\"\\nConfusion Matrix:\")\n",
    "cm = confusion_matrix(y_test, y_pred)\n",
    "sns.heatmap(cm, annot=True, fmt='d', cmap='Purples', xticklabels=['Not Vulnerable', 'Vulnerable'], yticklabels=['Not Vulnerable', 'Vulnerable'])\n",
    "plt.title('Confusion Matrix')\n",
    "plt.ylabel('Actual Label')\n",
    "plt.xlabel('Predicted Label')\n",
    "plt.show()"
   ]
  },
  {
   "cell_type": "markdown",
   "metadata": {},
   "source": [
    "## 7. Model Interpretability: Visualizing the Decision Tree"
   ]
  },
  {
   "cell_type": "code",
   "execution_count": null,
   "metadata": {},
   "outputs": [],
   "source": [
    "print(\"\\n--- Model Interpretability: The Learned Rules ---\")\n",
    "\n",
    "plt.figure(figsize=(20, 12))\n",
    "plot_tree(\n",
    "    model,\n",
    "    feature_names=X.columns,\n",
    "    class_names=['Not Vulnerable', 'Vulnerable'],\n",
    "    filled=True,\n",
    "    rounded=True,\n",
    "    fontsize=10\n",
    ")\n",
    "plt.title(\"Decision Tree for Vulnerability Prediction\", fontsize=16)\n",
    "plt.show()"
   ]
  },
  {
   "cell_type": "markdown",
   "metadata": {},
   "source": [
    "## 8. Conclusion"
   ]
  },
  {
   "cell_type": "code",
   "execution_count": null,
   "metadata": {},
   "outputs": [],
   "source": [
    "print(\"\\n--- Conclusion ---\")\n",
    "print(\"The Decision Tree model successfully learned to predict device vulnerabilities from software versions.\")\n",
    "print(\"Key Takeaways:\")\n",
    "print(\"- The model achieved high accuracy, precision, and recall, demonstrating its effectiveness in identifying at-risk devices.\")\n",
    "print(\"- The most powerful output is the decision tree visualization itself. A network security engineer can look at the tree and understand the exact logic the model is using. For example, the top node might split on 'v_major <= 15', immediately isolating a group of older, high-risk devices.\")\n",
    "print(\"- This approach moves security from a reactive to a proactive stance. Instead of waiting for a vulnerability scanner to run, this model could be integrated with an inventory system (like NetBox or ServiceNow) to provide a continuously updated risk score for every device on the network.\")\n",
    "print(\"- This allows for intelligent, data-driven patch prioritization, focusing limited maintenance windows on the devices that pose the greatest risk.\")"
   ]
  }
 ],
 "metadata": {
  "kernelspec": {
   "display_name": "Python 3",
   "language": "python",
   "name": "python3"
  },
  "language_info": {
   "codemirror_mode": {
    "name": "ipython",
    "version": 3
   },
   "file_extension": ".py",
   "mimetype": "text/x-python",
   "name": "python",
   "nbconvert_exporter": "python",
   "pygments_lexer": "ipython3",
   "version": "3.8.5"
  }
 },
 "nbformat": 4,
 "nbformat_minor": 4
}