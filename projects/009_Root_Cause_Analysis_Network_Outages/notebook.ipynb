{
 "cells": [
  {
   "cell_type": "markdown",
   "metadata": {},
   "source": [
    "# Project 9: Root Cause Analysis for Network Outages (NLP & Graph ML)\n",
    "\n",
    "**Objective:** To build an automated system that analyzes a flood of network alerts, correlates them with the network topology, and identifies the most probable root cause device.\n",
    "\n",
    "**Dataset:** Synthetically Generated. We will create a realistic network topology and simulate an alert storm caused by a single device failure. This allows us to have a \"ground truth\" to validate our algorithm's conclusion.\n",
    "\n",
    "**Methodology:**\n",
    "1. **Topology Modeling:** Represent the network as a graph using the `networkx` library.\n",
    "2. **Alert Simulation:** Generate a list of realistic alert messages, including the root cause and its symptoms.\n",
    "3. **NLP Parsing:** Use regular expressions to extract the hostnames from alert messages.\n",
    "4. **Graph Analysis:** Calculate the **betweenness centrality** of the alerting nodes. The node that lies on the most shortest paths between other nodes is a strong candidate for the root cause, as its failure would have the widest impact.\n",
    "\n",
    "**Instructions:**\n",
    "This notebook is fully self-contained and does not require any external files or APIs. Simply run all cells in order."
   ]
  },
  {
   "cell_type": "markdown",
   "metadata": {},
   "source": [
    "## 1. Import Necessary Libraries"
   ]
  },
  {
   "cell_type": "code",
   "execution_count": null,
   "metadata": {},
   "outputs": [],
   "source": [
    "import pandas as pd\n",
    "import networkx as nx\n",
    "import matplotlib.pyplot as plt\n",
    "import re\n",
    "import random"
   ]
  },
  {
   "cell_type": "markdown",
   "metadata": {},
   "source": [
    "## 2. Create the Network Topology and Simulate an Alert Storm"
   ]
  },
  {
   "cell_type": "code",
   "execution_count": null,
   "metadata": {},
   "outputs": [],
   "source": [
    "print(\"--- Step 1: Building Network Topology and Simulating Alert Storm ---\")\n",
    "\n",
    "# Define a realistic network topology (e.g., Core, Distribution, Access layers)\n",
    "topology = {\n",
    "    'Core-Router-1': ['Dist-Switch-A', 'Dist-Switch-B', 'Firewall'],\n",
    "    'Firewall': ['Internet-Gateway'],\n",
    "    'Dist-Switch-A': ['Access-Switch-1', 'Access-Switch-2'],\n",
    "    'Dist-Switch-B': ['Access-Switch-3', 'Access-Switch-4'],\n",
    "    'Access-Switch-1': ['Server-101', 'Server-102'],\n",
    "    'Access-Switch-2': ['PC-201', 'PC-202'],\n",
    "    'Access-Switch-3': ['Server-301', 'Server-302'],\n",
    "    'Access-Switch-4': ['PC-401', 'PC-402']\n",
    "}\n",
    "\n",
    "# Create a graph from the topology\n",
    "G = nx.Graph()\n",
    "for node, neighbors in topology.items():\n",
    "    for neighbor in neighbors:\n",
    "        G.add_edge(node, neighbor)\n",
    "\n",
    "print(f\"Created network topology with {len(G.nodes())} nodes and {len(G.edges())} edges\")"
   ]
  },
  {
   "cell_type": "code",
   "execution_count": null,
   "metadata": {},
   "outputs": [],
   "source": [
    "# Function to simulate an alert storm\n",
    "def generate_alert_storm(graph, root_cause_node):\n",
    "    alerts = []\n",
    "    # The root cause alert\n",
    "    alerts.append(f\"CRITICAL: Device {root_cause_node} interface Gi0/1 is down.\")\n",
    "    \n",
    "    # Find all downstream nodes that are now unreachable from the 'Firewall' (our monitoring point)\n",
    "    # To do this, we temporarily remove the faulty node from the graph\n",
    "    temp_graph = graph.copy()\n",
    "    temp_graph.remove_node(root_cause_node)\n",
    "    \n",
    "    for node in graph.nodes():\n",
    "        # If a node is not the root cause itself and is no longer reachable from the monitor...\n",
    "        if node != root_cause_node and not nx.has_path(temp_graph, 'Firewall', node):\n",
    "            alert_type = random.choice(['is unreachable', 'failed to respond to ping', 'has high packet loss'])\n",
    "            alerts.append(f\"ERROR: Monitored device {node} {alert_type}.\")\n",
    "            \n",
    "    return alerts"
   ]
  },
  {
   "cell_type": "code",
   "execution_count": null,
   "metadata": {},
   "outputs": [],
   "source": [
    "# --- SIMULATION ---\n",
    "# Let's simulate a failure on a critical distribution switch\n",
    "ROOT_CAUSE_DEVICE = 'Dist-Switch-A'\n",
    "alert_messages = generate_alert_storm(G, ROOT_CAUSE_DEVICE)\n",
    "\n",
    "print(f\"\\nSimulated a failure on: {ROOT_CAUSE_DEVICE}\")\n",
    "print(\"Generated Alert Storm (sample):\")\n",
    "for alert in random.sample(alert_messages, min(5, len(alert_messages))):\n",
    "    print(f\"- {alert}\")\n",
    "    \n",
    "print(f\"\\nTotal alerts generated: {len(alert_messages)}\")"
   ]
  },
  {
   "cell_type": "markdown",
   "metadata": {},
   "source": [
    "## 3. Parse Alerts and Identify Alerting Devices"
   ]
  },
  {
   "cell_type": "code",
   "execution_count": null,
   "metadata": {},
   "outputs": [],
   "source": [
    "print(\"\\n--- Step 2: Parsing Alerts with NLP (Regex) ---\")\n",
    "\n",
    "def parse_hostnames(alerts):\n",
    "    hostnames = set()\n",
    "    # Regex to find device names that look like 'Word-Word-Number' or similar\n",
    "    pattern = re.compile(r'([A-Za-z]+-[A-Za-z]+-\\d+|[A-Za-z]+-\\d+|[A-Za-z]+-[A-Za-z]+-[A-Za-z]+|\\bFirewall\\b|\\bInternet-Gateway\\b)')\n",
    "    for alert in alerts:\n",
    "        match = pattern.search(alert)\n",
    "        if match:\n",
    "            hostnames.add(match.group(0))\n",
    "    return list(hostnames)\n",
    "\n",
    "alerting_devices = parse_hostnames(alert_messages)\n",
    "print(f\"Identified {len(alerting_devices)} unique alerting devices:\")\n",
    "print(alerting_devices)"
   ]
  },
  {
   "cell_type": "markdown",
   "metadata": {},
   "source": [
    "## 4. Root Cause Analysis using Graph Centrality"
   ]
  },
  {
   "cell_type": "code",
   "execution_count": null,
   "metadata": {},
   "outputs": [],
   "source": [
    "print(\"\\n--- Step 3: Performing Root Cause Analysis via Graph Centrality ---\")\n",
    "\n",
    "# Calculate Betweenness Centrality for all nodes in the graph.\n",
    "# This metric measures how many times a node acts as a bridge along the shortest\n",
    "# path between two other nodes. A high value is indicative of a critical chokepoint.\n",
    "centrality = nx.betweenness_centrality(G)\n",
    "\n",
    "# Find the alerting device with the highest centrality score.\n",
    "max_centrality = -1\n",
    "predicted_root_cause = None\n",
    "\n",
    "print(\"\\nCentrality scores for alerting devices:\")\n",
    "for device in alerting_devices:\n",
    "    score = centrality.get(device, 0)\n",
    "    print(f\"- {device}: {score:.4f}\")\n",
    "    if score > max_centrality:\n",
    "        max_centrality = score\n",
    "        predicted_root_cause = device"
   ]
  },
  {
   "cell_type": "code",
   "execution_count": null,
   "metadata": {},
   "outputs": [],
   "source": [
    "print(f\"\\nGround Truth Root Cause: {ROOT_CAUSE_DEVICE}\")\n",
    "print(f\"Predicted Root Cause:    {predicted_root_cause}\")\n",
    "\n",
    "if predicted_root_cause == ROOT_CAUSE_DEVICE:\n",
    "    print(\"\\nSUCCESS: The algorithm correctly identified the root cause!\")\n",
    "else:\n",
    "    print(\"\\nFAILURE: The algorithm pointed to the wrong device.\")"
   ]
  },
  {
   "cell_type": "markdown",
   "metadata": {},
   "source": [
    "## 5. Visualization of the Result"
   ]
  },
  {
   "cell_type": "code",
   "execution_count": null,
   "metadata": {},
   "outputs": [],
   "source": [
    "print(\"\\n--- Step 4: Visualizing the Result ---\")\n",
    "\n",
    "plt.figure(figsize=(14, 10))\n",
    "pos = nx.spring_layout(G, seed=42)\n",
    "\n",
    "# Define colors for nodes\n",
    "node_colors = []\n",
    "for node in G.nodes():\n",
    "    if node == predicted_root_cause:\n",
    "        node_colors.append('red')      # Root Cause\n",
    "    elif node in alerting_devices:\n",
    "        node_colors.append('orange')   # Symptom\n",
    "    else:\n",
    "        node_colors.append('skyblue')  # Normal\n",
    "\n",
    "nx.draw(G, pos, with_labels=True, node_color=node_colors, node_size=2500, font_size=8, font_weight='bold')\n",
    "plt.title('Network Topology with Identified Root Cause', size=15)\n",
    "legend_handles = [\n",
    "    plt.Line2D([0], [0], marker='o', color='w', label='Predicted Root Cause', markerfacecolor='red', markersize=15),\n",
    "    plt.Line2D([0], [0], marker='o', color='w', label='Symptom Device', markerfacecolor='orange', markersize=15),\n",
    "    plt.Line2D([0], [0], marker='o', color='w', label='Normal Device', markerfacecolor='skyblue', markersize=15)\n",
    "]\n",
    "plt.legend(handles=legend_handles, loc='best')\n",
    "plt.show()"
   ]
  },
  {
   "cell_type": "markdown",
   "metadata": {},
   "source": [
    "## 6. Conclusion\n",
    "\n",
    "This notebook successfully demonstrated a powerful method for automated Root Cause Analysis.\n",
    "\n",
    "**Key Takeaways:**\n",
    "- We transformed multiple potentially confusing alerts into a single, actionable insight: the likely problem device.\n",
    "- The combination of NLP (to extract entities from text) and Graph Theory (to understand system relationships) is a highly effective pattern for RCA.\n",
    "- The 'betweenness centrality' metric served as an excellent heuristic to find the most critical 'chokepoint' among the set of failing devices.\n",
    "- This approach can drastically reduce Mean Time To Resolution (MTTR) for network outages by directing engineers straight to the source of the issue."
   ]
  }
 ],
 "metadata": {
  "kernelspec": {
   "display_name": "Python 3",
   "language": "python",
   "name": "python3"
  },
  "language_info": {
   "codemirror_mode": {
    "name": "ipython",
    "version": 3
   },
   "file_extension": ".py",
   "mimetype": "text/x-python",
   "name": "python",
   "nbconvert_exporter": "python",
   "pygments_lexer": "ipython3",
   "version": "3.8.5"
  }
 },
 "nbformat": 4,
 "nbformat_minor": 4
}