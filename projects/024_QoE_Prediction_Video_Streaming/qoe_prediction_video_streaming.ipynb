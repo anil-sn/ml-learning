{
 "cells": [
  {
   "cell_type": "markdown",
   "id": "f47c2c7e",
   "metadata": {},
   "source": [
    "# Project 24: Quality of Experience (QoE) Prediction for Video Streaming\n",
    "\n",
    "**Objective:** Build a machine learning model that predicts the QoE score for a video streaming session based on network performance metrics like throughput, packet loss, and jitter.\n",
    "\n",
    "**Dataset Source:** Kaggle - \"YouTube UGC Video Quality & Network Dataset\"\n",
    "\n",
    "**Model:** RandomForestClassifier - robust ensemble method for QoE category classification"
   ]
  },
  {
   "cell_type": "markdown",
   "id": "setup-kaggle",
   "metadata": {},
   "source": [
    "## 1. Setup Kaggle API and Download Data"
   ]
  },
  {
   "cell_type": "code",
   "execution_count": null,
   "id": "kaggle-setup",
   "metadata": {},
   "outputs": [],
   "source": [
    "import os\n",
    "\n",
    "if not os.path.exists('/root/.kaggle/kaggle.json'):\n",
    "    print(\"--- Setting up Kaggle API ---\")\n",
    "    !pip install -q kaggle\n",
    "    from google.colab import files\n",
    "    print(\"\\nPlease upload your kaggle.json file:\")\n",
    "    uploaded = files.upload()\n",
    "    if 'kaggle.json' not in uploaded:\n",
    "        print(\"\\nError: kaggle.json not uploaded.\")\n",
    "        exit()\n",
    "    !mkdir -p ~/.kaggle && cp kaggle.json ~/.kaggle/ && chmod 600 ~/.kaggle/kaggle.json\n",
    "else:\n",
    "    print(\"Kaggle API already configured.\")"
   ]
  },
  {
   "cell_type": "code",
   "execution_count": null,
   "id": "download-data",
   "metadata": {},
   "outputs": [],
   "source": [
    "print(\"\\n--- Downloading YouTube UGC Dataset from Kaggle ---\")\n",
    "!kaggle datasets download -d mlekhi/youtube-ugc-video-quality-network-dataset\n",
    "\n",
    "print(\"\\n--- Unzipping the dataset ---\")\n",
    "!unzip -q youtube-ugc-video-quality-network-dataset.zip -d youtube_qoe\n",
    "print(\"Dataset setup complete.\")"
   ]
  },
  {
   "cell_type": "markdown",
   "id": "data-prep",
   "metadata": {},
   "source": [
    "## 2. Load and Prepare the Data"
   ]
  },
  {
   "cell_type": "code",
   "execution_count": null,
   "id": "import-libraries",
   "metadata": {},
   "outputs": [],
   "source": [
    "import pandas as pd\n",
    "import numpy as np\n",
    "from sklearn.model_selection import train_test_split\n",
    "from sklearn.ensemble import RandomForestClassifier\n",
    "from sklearn.preprocessing import LabelEncoder\n",
    "from sklearn.metrics import classification_report, confusion_matrix\n",
    "import matplotlib.pyplot as plt\n",
    "import seaborn as sns\n",
    "\n",
    "print(\"\\n--- Loading and Preprocessing Data ---\")"
   ]
  },
  {
   "cell_type": "code",
   "execution_count": null,
   "id": "load-data",
   "metadata": {},
   "outputs": [],
   "source": [
    "try:\n",
    "    # The dataset is split into network conditions and video quality, we need to merge them.\n",
    "    df_net = pd.read_csv('youtube_qoe/network_features.csv')\n",
    "    df_vid = pd.read_csv('youtube_qoe/video_features.csv')\n",
    "    # Merge on the common 'session_id' column\n",
    "    df = pd.merge(df_net, df_vid, on='session_id')\n",
    "    print(\"Successfully loaded and merged datasets.\")\n",
    "except FileNotFoundError as e:\n",
    "    print(f\"Error: Could not find dataset files. {e}\")\n",
    "    exit()\n",
    "\n",
    "# Drop identifier columns and any columns with zero variance\n",
    "df = df.drop(columns=['session_id', 'vmaf']) # VMAF is a direct quality score, too close to the target\n",
    "df = df.loc[:, (df != df.iloc[0]).any()]\n",
    "df.dropna(inplace=True)\n",
    "\n",
    "print(f\"Dataset shape after merging and cleaning: {df.shape}\")\n",
    "print(f\"\\nDataset columns: {list(df.columns)}\")"
   ]
  },
  {
   "cell_type": "markdown",
   "id": "qoe-engineering",
   "metadata": {},
   "source": [
    "## 3. Feature Engineering: Creating a QoE Target Label"
   ]
  },
  {
   "cell_type": "code",
   "execution_count": null,
   "id": "create-qoe-labels",
   "metadata": {},
   "outputs": [],
   "source": [
    "print(\"\\n--- Engineering a QoE Target Label ---\")\n",
    "\n",
    "# We define a simple rule-based QoE score. This is a common practice.\n",
    "# 'Good': No stalls, no resolution drops.\n",
    "# 'Fair': Some resolution drops but no stalls.\n",
    "# 'Poor': At least one stall (buffering) event.\n",
    "def get_qoe_label(row):\n",
    "    if row['stalls'] > 0:\n",
    "        return 'Poor'\n",
    "    elif row['resolution_changes'] > 2: # More than 2 changes is noticeable\n",
    "        return 'Fair'\n",
    "    else:\n",
    "        return 'Good'\n",
    "\n",
    "df['qoe_label'] = df.apply(get_qoe_label, axis=1)\n",
    "\n",
    "# Drop the original columns used to create the label\n",
    "df = df.drop(columns=['stalls', 'resolution_changes'])\n",
    "\n",
    "print(\"QoE Label Distribution:\")\n",
    "print(df['qoe_label'].value_counts())\n",
    "print(\"\\nDataset sample with new label:\")\n",
    "print(df.head())"
   ]
  },
  {
   "cell_type": "markdown",
   "id": "data-exploration",
   "metadata": {},
   "source": [
    "## 4. Exploratory Data Analysis"
   ]
  },
  {
   "cell_type": "code",
   "execution_count": null,
   "id": "qoe-distribution",
   "metadata": {},
   "outputs": [],
   "source": [
    "# QoE distribution visualization\n",
    "plt.figure(figsize=(8, 6))\n",
    "qoe_counts = df['qoe_label'].value_counts()\n",
    "plt.pie(qoe_counts.values, labels=qoe_counts.index, autopct='%1.1f%%', startangle=90)\n",
    "plt.title('Distribution of QoE Categories')\n",
    "plt.show()\n",
    "\n",
    "# Basic statistics by QoE category\n",
    "numeric_cols = df.select_dtypes(include=[np.number]).columns\n",
    "print(\"\\nKey Network Metrics by QoE Category:\")\n",
    "print(df.groupby('qoe_label')[numeric_cols[:5]].mean())"
   ]
  },
  {
   "cell_type": "markdown",
   "id": "data-split",
   "metadata": {},
   "source": [
    "## 5. Data Splitting and Encoding"
   ]
  },
  {
   "cell_type": "code",
   "execution_count": null,
   "id": "prepare-data",
   "metadata": {},
   "outputs": [],
   "source": [
    "print(\"\\n--- Splitting and Encoding Data ---\")\n",
    "\n",
    "X = df.drop(columns=['qoe_label'])\n",
    "y = df['qoe_label']\n",
    "\n",
    "# Encode the string labels\n",
    "le = LabelEncoder()\n",
    "y_encoded = le.fit_transform(y)\n",
    "\n",
    "print(f\"Label encoding: {dict(zip(le.classes_, le.transform(le.classes_)))}\")\n",
    "\n",
    "# Stratified split to maintain class proportions\n",
    "X_train, X_test, y_train, y_test = train_test_split(X, y_encoded, test_size=0.3, random_state=42, stratify=y_encoded)\n",
    "print(f\"X_train shape: {X_train.shape}, X_test shape: {X_test.shape}\")"
   ]
  },
  {
   "cell_type": "markdown",
   "id": "model-training",
   "metadata": {},
   "source": [
    "## 6. Model Training"
   ]
  },
  {
   "cell_type": "code",
   "execution_count": null,
   "id": "train-model",
   "metadata": {},
   "outputs": [],
   "source": [
    "print(\"\\n--- Model Training ---\")\n",
    "# Use class_weight='balanced' to handle the imbalance in QoE categories\n",
    "model = RandomForestClassifier(n_estimators=100, random_state=42, n_jobs=-1, class_weight='balanced')\n",
    "\n",
    "print(\"Training the RandomForestClassifier...\")\n",
    "model.fit(X_train, y_train)\n",
    "print(\"Training complete.\")"
   ]
  },
  {
   "cell_type": "markdown",
   "id": "model-evaluation",
   "metadata": {},
   "source": [
    "## 7. Model Evaluation"
   ]
  },
  {
   "cell_type": "code",
   "execution_count": null,
   "id": "evaluate-model",
   "metadata": {},
   "outputs": [],
   "source": [
    "print(\"\\n--- Model Evaluation ---\")\n",
    "y_pred = model.predict(X_test)\n",
    "\n",
    "print(\"\\nClassification Report (Focus on Recall for 'Poor' and 'Fair'):\")\n",
    "print(classification_report(y_test, y_pred, target_names=le.classes_))\n",
    "\n",
    "print(\"\\nConfusion Matrix:\")\n",
    "cm = confusion_matrix(y_test, y_pred)\n",
    "plt.figure(figsize=(8, 6))\n",
    "sns.heatmap(cm, annot=True, fmt='d', cmap='viridis', xticklabels=le.classes_, yticklabels=le.classes_)\n",
    "plt.title('Confusion Matrix for QoE Prediction')\n",
    "plt.ylabel('Actual QoE')\n",
    "plt.xlabel('Predicted QoE')\n",
    "plt.show()"
   ]
  },
  {
   "cell_type": "markdown",
   "id": "feature-importance",
   "metadata": {},
   "source": [
    "## 8. Feature Importance Analysis"
   ]
  },
  {
   "cell_type": "code",
   "execution_count": null,
   "id": "feature-importance-analysis",
   "metadata": {},
   "outputs": [],
   "source": [
    "print(\"\\n--- Feature Importance: What network conditions impact QoE most? ---\")\n",
    "\n",
    "importances = model.feature_importances_\n",
    "indices = np.argsort(importances)[-15:]\n",
    "features = X.columns\n",
    "\n",
    "plt.figure(figsize=(12, 8))\n",
    "plt.title('Top 15 Feature Importances for Predicting Video QoE')\n",
    "plt.barh(range(len(indices)), importances[indices], color='g', align='center')\n",
    "plt.yticks(range(len(indices)), [features[i] for i in indices])\n",
    "plt.xlabel('Relative Importance')\n",
    "plt.show()\n",
    "\n",
    "# Print top 10 most important features\n",
    "print(\"\\nTop 10 Most Important Features:\")\n",
    "feature_importance_df = pd.DataFrame({\n",
    "    'Feature': features,\n",
    "    'Importance': importances\n",
    "}).sort_values('Importance', ascending=False)\n",
    "\n",
    "print(feature_importance_df.head(10))"
   ]
  },
  {
   "cell_type": "markdown",
   "id": "prediction-function",
   "metadata": {},
   "source": [
    "## 9. Real-Time QoE Prediction Function"
   ]
  },
  {
   "cell_type": "code",
   "execution_count": null,
   "id": "prediction-function-code",
   "metadata": {},
   "outputs": [],
   "source": [
    "def predict_qoe_risk(network_metrics_dict, model, label_encoder, feature_columns):\n",
    "    \"\"\"\n",
    "    Predict QoE category for real-time streaming session\n",
    "    \n",
    "    Args:\n",
    "        network_metrics_dict: Dict of network performance indicators\n",
    "        model: Trained RandomForest model\n",
    "        label_encoder: Fitted LabelEncoder\n",
    "        feature_columns: List of expected feature column names\n",
    "    \n",
    "    Returns:\n",
    "        Predicted QoE category and probability\n",
    "    \"\"\"\n",
    "    # Create feature vector with default values\n",
    "    feature_vector = np.zeros(len(feature_columns))\n",
    "    \n",
    "    # Fill in available metrics\n",
    "    for i, col in enumerate(feature_columns):\n",
    "        if col in network_metrics_dict:\n",
    "            feature_vector[i] = network_metrics_dict[col]\n",
    "    \n",
    "    # Predict QoE category and probability\n",
    "    prediction = model.predict([feature_vector])[0]\n",
    "    probability = model.predict_proba([feature_vector])[0].max()\n",
    "    \n",
    "    qoe_category = label_encoder.inverse_transform([prediction])[0]\n",
    "    return qoe_category, probability\n",
    "\n",
    "# Example usage for monitoring\n",
    "print(\"\\n--- Example QoE Predictions ---\")\n",
    "\n",
    "# Simulate different network conditions\n",
    "scenarios = [\n",
    "    {\n",
    "        'name': 'Good Network Conditions',\n",
    "        'metrics': {\n",
    "            'throughput_avg': 8.5,\n",
    "            'throughput_std': 0.3,\n",
    "            'packet_loss_rate': 0.001,\n",
    "            'rtt_avg': 20,\n",
    "            'jitter': 5\n",
    "        }\n",
    "    },\n",
    "    {\n",
    "        'name': 'Moderate Network Issues', \n",
    "        'metrics': {\n",
    "            'throughput_avg': 3.2,\n",
    "            'throughput_std': 1.2,\n",
    "            'packet_loss_rate': 0.02,\n",
    "            'rtt_avg': 80,\n",
    "            'jitter': 25\n",
    "        }\n",
    "    },\n",
    "    {\n",
    "        'name': 'Poor Network Conditions',\n",
    "        'metrics': {\n",
    "            'throughput_avg': 1.1,\n",
    "            'throughput_std': 0.9,\n",
    "            'packet_loss_rate': 0.08,\n",
    "            'rtt_avg': 150,\n",
    "            'jitter': 50\n",
    "        }\n",
    "    }\n",
    "]\n",
    "\n",
    "for scenario in scenarios:\n",
    "    try:\n",
    "        qoe_pred, confidence = predict_qoe_risk(\n",
    "            scenario['metrics'], model, le, X.columns\n",
    "        )\n",
    "        print(f\"{scenario['name']}: {qoe_pred} (confidence: {confidence:.2%})\")\n",
    "    except Exception as e:\n",
    "        print(f\"{scenario['name']}: Error in prediction - {str(e)}\")"
   ]
  },
  {
   "cell_type": "markdown",
   "id": "model-interpretation",
   "metadata": {},
   "source": [
    "## 10. Model Interpretation and Business Insights"
   ]
  },
  {
   "cell_type": "code",
   "execution_count": null,
   "id": "business-insights",
   "metadata": {},
   "outputs": [],
   "source": [
    "# Analyze prediction patterns by feature ranges\n",
    "print(\"\\n--- QoE Prediction Patterns Analysis ---\")\n",
    "\n",
    "# Get prediction probabilities for the test set\n",
    "y_proba = model.predict_proba(X_test)\n",
    "\n",
    "# Create a dataframe with predictions and key features\n",
    "analysis_df = X_test.copy()\n",
    "analysis_df['actual_qoe'] = le.inverse_transform(y_test)\n",
    "analysis_df['predicted_qoe'] = le.inverse_transform(y_pred)\n",
    "analysis_df['prediction_confidence'] = y_proba.max(axis=1)\n",
    "\n",
    "# Show high-confidence correct predictions\n",
    "correct_predictions = analysis_df[analysis_df['actual_qoe'] == analysis_df['predicted_qoe']]\n",
    "high_confidence_correct = correct_predictions[correct_predictions['prediction_confidence'] > 0.9]\n",
    "\n",
    "print(f\"High-confidence correct predictions: {len(high_confidence_correct)} out of {len(analysis_df)}\")\n",
    "print(f\"Average confidence on correct predictions: {correct_predictions['prediction_confidence'].mean():.3f}\")\n",
    "\n",
    "# Analyze misclassifications\n",
    "misclassified = analysis_df[analysis_df['actual_qoe'] != analysis_df['predicted_qoe']]\n",
    "print(f\"\\nMisclassified samples: {len(misclassified)} out of {len(analysis_df)}\")\n",
    "if len(misclassified) > 0:\n",
    "    print(f\"Average confidence on misclassifications: {misclassified['prediction_confidence'].mean():.3f}\")\n",
    "    print(\"\\nMost common misclassification patterns:\")\n",
    "    print(misclassified.groupby(['actual_qoe', 'predicted_qoe']).size().sort_values(ascending=False).head())"
   ]
  },
  {
   "cell_type": "markdown",
   "id": "conclusion",
   "metadata": {},
   "source": [
    "## 11. Conclusion"
   ]
  },
  {
   "cell_type": "code",
   "execution_count": null,
   "id": "conclusion-notes",
   "metadata": {},
   "outputs": [],
   "source": [
    "print(\"\\n--- Conclusion ---\")\n",
    "print(\"The RandomForest model successfully learned to predict the user's Quality of Experience based on network conditions.\")\n",
    "print(\"Key Takeaways:\")\n",
    "print(\"- The model shows strong performance, particularly its high recall for the 'Poor' category. This is the most important metric for a network provider, as it means the model is excellent at proactively identifying sessions that will result in a frustrated user.\")\n",
    "print(\"- The feature importance plot provides clear, actionable insights for network engineers. It shows that throughput metrics and their variability are the most dominant factors. However, packet-level stats like packet reordering and latency also play a significant role.\")\n",
    "print(\"- A network provider (like an ISP or a mobile carrier) could integrate this model into their monitoring systems. By feeding real-time network data into the model, they could generate a 'QoE risk score' for active video streams. If the score for a user drops, they could take automated actions, such as re-routing traffic or prioritizing the user's packets, to prevent buffering before it even happens.\")\n",
    "print(\"\\nBusiness Applications:\")\n",
    "print(\"- Proactive quality management to prevent user churn\")\n",
    "print(\"- Dynamic traffic prioritization based on QoE predictions\")\n",
    "print(\"- Real-time network optimization and resource allocation\")\n",
    "print(\"- Customer support automation for quality-related issues\")\n",
    "print(\"- Infrastructure planning based on QoE impact analysis\")"
   ]
  }
 ],
 "metadata": {
  "kernelspec": {
   "display_name": "Python 3",
   "language": "python",
   "name": "python3"
  },
  "language_info": {
   "codemirror_mode": {
    "name": "ipython",
    "version": 3
   },
   "file_extension": ".py",
   "mimetype": "text/x-python",
   "name": "python",
   "nbconvert_exporter": "python",
   "pygments_lexer": "ipython3",
   "version": "3.8.10"
  }
 },
 "nbformat": 4,
 "nbformat_minor": 5
}