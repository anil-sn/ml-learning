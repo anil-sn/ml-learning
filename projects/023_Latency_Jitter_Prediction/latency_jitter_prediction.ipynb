{
 "cells": [
  {
   "cell_type": "markdown",
   "id": "f47c2c7e",
   "metadata": {},
   "source": [
    "# Project 23: Predicting Latency Jitter for a Network Path\n",
    "\n",
    "**Objective:** Build a regression model that can predict the latency (in milliseconds) of a network path based on characteristics like distance, time of day, and current traffic load.\n",
    "\n",
    "**Dataset Source:** Synthetically Generated - realistic network monitoring simulation\n",
    "\n",
    "**Model:** XGBoost Regressor - state-of-the-art gradient boosting for tabular regression tasks"
   ]
  },
  {
   "cell_type": "markdown",
   "id": "import-libraries",
   "metadata": {},
   "source": [
    "## 1. Import Necessary Libraries"
   ]
  },
  {
   "cell_type": "code",
   "execution_count": null,
   "id": "imports",
   "metadata": {},
   "outputs": [],
   "source": [
    "import pandas as pd\n",
    "import numpy as np\n",
    "import xgboost as xgb\n",
    "from sklearn.model_selection import train_test_split\n",
    "from sklearn.metrics import mean_absolute_error, mean_squared_error, r2_score\n",
    "import matplotlib.pyplot as plt\n",
    "import seaborn as sns"
   ]
  },
  {
   "cell_type": "markdown",
   "id": "data-generation",
   "metadata": {},
   "source": [
    "## 2. Synthetic Latency Data Generation"
   ]
  },
  {
   "cell_type": "code",
   "execution_count": null,
   "id": "generate-data",
   "metadata": {},
   "outputs": [],
   "source": [
    "print(\"--- Generating Synthetic Network Latency Dataset ---\")\n",
    "\n",
    "num_samples = 5000\n",
    "data = []\n",
    "\n",
    "for _ in range(num_samples):\n",
    "    distance_km = np.random.randint(50, 5000)\n",
    "    hour_of_day = np.random.randint(0, 24)\n",
    "    \n",
    "    # Simulate business hours congestion (9am to 5pm)\n",
    "    if 9 <= hour_of_day <= 17:\n",
    "        congestion_factor = np.random.uniform(1.2, 2.5) # Higher latency during these hours\n",
    "    else:\n",
    "        congestion_factor = np.random.uniform(0.8, 1.2) # Lower latency off-hours\n",
    "        \n",
    "    # Simulate random traffic spikes\n",
    "    traffic_spike = np.random.choice([0, 1], p=[0.9, 0.1]) * np.random.uniform(5, 15)\n",
    "    \n",
    "    # --- Create a realistic formula for latency ---\n",
    "    # Baseline latency + distance effect + congestion effect + random noise\n",
    "    base_latency = 5 # ms for local processing\n",
    "    distance_latency = distance_km * 0.05 # rough speed-of-light factor\n",
    "    congestion_latency = hour_of_day * congestion_factor\n",
    "    random_noise = np.random.normal(0, 5) # Simulates jitter\n",
    "    \n",
    "    # Final latency\n",
    "    latency = base_latency + distance_latency + congestion_latency + traffic_spike + random_noise\n",
    "    latency = max(5, latency) # Ensure latency is not unrealistically low\n",
    "    \n",
    "    data.append([distance_km, hour_of_day, congestion_factor, traffic_spike, latency])\n",
    "\n",
    "df = pd.DataFrame(data, columns=['distance_km', 'hour_of_day', 'congestion_factor', 'traffic_spike', 'latency_ms'])\n",
    "\n",
    "print(\"Dataset generation complete. Sample:\")\n",
    "print(df.sample(5))\n",
    "print(f\"\\nDataset shape: {df.shape}\")\n",
    "print(f\"Dataset statistics:\")\n",
    "print(df.describe())"
   ]
  },
  {
   "cell_type": "markdown",
   "id": "eda-section",
   "metadata": {},
   "source": [
    "## 3. Exploratory Data Analysis (EDA)"
   ]
  },
  {
   "cell_type": "code",
   "execution_count": null,
   "id": "eda-visualization",
   "metadata": {},
   "outputs": [],
   "source": [
    "print(\"\\n--- Visualizing Feature Relationships ---\")\n",
    "\n",
    "sns.pairplot(df, x_vars=['distance_km', 'hour_of_day', 'congestion_factor'], y_vars=['latency_ms'], height=4, aspect=1)\n",
    "plt.suptitle('Latency vs. Key Features', y=1.02)\n",
    "plt.show()\n",
    "print(\"The plots show a strong positive correlation between distance and latency, and a more complex relationship between the hour of day and latency.\")"
   ]
  },
  {
   "cell_type": "code",
   "execution_count": null,
   "id": "correlation-analysis",
   "metadata": {},
   "outputs": [],
   "source": [
    "# Correlation matrix analysis\n",
    "plt.figure(figsize=(10, 8))\n",
    "correlation_matrix = df.corr()\n",
    "sns.heatmap(correlation_matrix, annot=True, cmap='coolwarm', center=0, square=True)\n",
    "plt.title('Feature Correlation Matrix')\n",
    "plt.show()\n",
    "\n",
    "print(\"\\nCorrelation insights:\")\n",
    "print(f\"Distance vs Latency correlation: {df['distance_km'].corr(df['latency_ms']):.3f}\")\n",
    "print(f\"Hour of day vs Latency correlation: {df['hour_of_day'].corr(df['latency_ms']):.3f}\")\n",
    "print(f\"Congestion factor vs Latency correlation: {df['congestion_factor'].corr(df['latency_ms']):.3f}\")"
   ]
  },
  {
   "cell_type": "markdown",
   "id": "data-splitting",
   "metadata": {},
   "source": [
    "## 4. Data Splitting"
   ]
  },
  {
   "cell_type": "code",
   "execution_count": null,
   "id": "split-data",
   "metadata": {},
   "outputs": [],
   "source": [
    "print(\"\\n--- Splitting Data for Training and Testing ---\")\n",
    "\n",
    "feature_cols = ['distance_km', 'hour_of_day', 'congestion_factor', 'traffic_spike']\n",
    "X = df[feature_cols]\n",
    "y = df['latency_ms']\n",
    "\n",
    "X_train, X_test, y_train, y_test = train_test_split(X, y, test_size=0.2, random_state=42)\n",
    "print(f\"X_train shape: {X_train.shape}, X_test shape: {X_test.shape}\")\n",
    "print(f\"y_train shape: {y_train.shape}, y_test shape: {y_test.shape}\")"
   ]
  },
  {
   "cell_type": "markdown",
   "id": "model-training",
   "metadata": {},
   "source": [
    "## 5. Model Training with XGBoost Regressor"
   ]
  },
  {
   "cell_type": "code",
   "execution_count": null,
   "id": "train-model",
   "metadata": {},
   "outputs": [],
   "source": [
    "print(\"\\n--- Model Training ---\")\n",
    "\n",
    "# Initialize the XGBoost Regressor\n",
    "model = xgb.XGBRegressor(\n",
    "    objective='reg:squarederror', # Objective function for regression\n",
    "    n_estimators=100,             # Number of boosting rounds\n",
    "    learning_rate=0.1,\n",
    "    max_depth=6,                  # Maximum tree depth\n",
    "    random_state=42,\n",
    "    n_jobs=-1                     # Use all CPU cores\n",
    ")\n",
    "\n",
    "print(\"Training the XGBoost Regressor model...\")\n",
    "model.fit(X_train, y_train)\n",
    "print(\"Training complete.\")"
   ]
  },
  {
   "cell_type": "markdown",
   "id": "model-evaluation",
   "metadata": {},
   "source": [
    "## 6. Model Evaluation for Regression"
   ]
  },
  {
   "cell_type": "code",
   "execution_count": null,
   "id": "evaluate-model",
   "metadata": {},
   "outputs": [],
   "source": [
    "print(\"\\n--- Model Evaluation ---\")\n",
    "y_pred = model.predict(X_test)\n",
    "\n",
    "# --- Key Regression Metrics ---\n",
    "mae = mean_absolute_error(y_test, y_pred)\n",
    "rmse = np.sqrt(mean_squared_error(y_test, y_pred))\n",
    "r2 = r2_score(y_test, y_pred)\n",
    "\n",
    "print(f\"Mean Absolute Error (MAE):  {mae:.2f} ms\")\n",
    "print(f\"  (On average, the model's prediction is off by +/- {mae:.2f} ms)\")\n",
    "print(f\"Root Mean Squared Error (RMSE): {rmse:.2f} ms\")\n",
    "print(f\"  (Penalizes larger errors more heavily)\")\n",
    "print(f\"R-squared (R²): {r2:.2%}\")\n",
    "print(f\"  ({r2:.0%} of the variance in latency can be explained by our features)\")"
   ]
  },
  {
   "cell_type": "code",
   "execution_count": null,
   "id": "actual-vs-predicted",
   "metadata": {},
   "outputs": [],
   "source": [
    "# --- Visualization: Actual vs. Predicted ---\n",
    "plt.figure(figsize=(8, 8))\n",
    "plt.scatter(y_test, y_pred, alpha=0.5)\n",
    "plt.plot([y_test.min(), y_test.max()], [y_test.min(), y_test.max()], '--r', linewidth=2, label='Perfect Prediction')\n",
    "plt.xlabel('Actual Latency (ms)')\n",
    "plt.ylabel('Predicted Latency (ms)')\n",
    "plt.title('Actual vs. Predicted Latency')\n",
    "plt.legend()\n",
    "plt.grid(True)\n",
    "plt.show()"
   ]
  },
  {
   "cell_type": "markdown",
   "id": "feature-importance",
   "metadata": {},
   "source": [
    "## 7. Feature Importance Analysis"
   ]
  },
  {
   "cell_type": "code",
   "execution_count": null,
   "id": "feature-importance-plot",
   "metadata": {},
   "outputs": [],
   "source": [
    "print(\"\\n--- Feature Importance ---\")\n",
    "fig, ax = plt.subplots(figsize=(10, 6))\n",
    "xgb.plot_importance(model, ax=ax, height=0.8)\n",
    "plt.title('Feature Importance in Predicting Latency')\n",
    "plt.show()\n",
    "\n",
    "# Get feature importance values\n",
    "feature_importance = model.feature_importances_\n",
    "feature_names = X.columns\n",
    "\n",
    "print(\"\\nFeature Importance Rankings:\")\n",
    "for name, importance in sorted(zip(feature_names, feature_importance), key=lambda x: x[1], reverse=True):\n",
    "    print(f\"{name}: {importance:.4f}\")"
   ]
  },
  {
   "cell_type": "markdown",
   "id": "prediction-function",
   "metadata": {},
   "source": [
    "## 8. Real-Time Prediction Function"
   ]
  },
  {
   "cell_type": "code",
   "execution_count": null,
   "id": "prediction-function-code",
   "metadata": {},
   "outputs": [],
   "source": [
    "def predict_network_latency(distance_km, hour_of_day, congestion_factor, traffic_spike):\n",
    "    \"\"\"\n",
    "    Predict network latency for given conditions\n",
    "    \n",
    "    Args:\n",
    "        distance_km: Physical distance of network path\n",
    "        hour_of_day: Current hour (0-23)\n",
    "        congestion_factor: Network congestion multiplier\n",
    "        traffic_spike: Presence of traffic spike (0 or spike value)\n",
    "    \n",
    "    Returns:\n",
    "        Predicted latency in milliseconds\n",
    "    \"\"\"\n",
    "    features = np.array([[distance_km, hour_of_day, congestion_factor, traffic_spike]])\n",
    "    prediction = model.predict(features)[0]\n",
    "    return round(prediction, 2)\n",
    "\n",
    "# Example predictions for different scenarios\n",
    "print(\"\\n--- Example Network Latency Predictions ---\")\n",
    "\n",
    "scenarios = [\n",
    "    (500, 3, 0.9, 0, \"Early morning, short distance\"),\n",
    "    (500, 14, 2.0, 0, \"Business hours, short distance\"),\n",
    "    (3000, 3, 0.9, 0, \"Early morning, long distance\"),\n",
    "    (3000, 14, 2.0, 0, \"Business hours, long distance\"),\n",
    "    (1500, 14, 1.8, 10, \"Business hours with traffic spike\")\n",
    "]\n",
    "\n",
    "for distance, hour, congestion, spike, description in scenarios:\n",
    "    predicted_latency = predict_network_latency(distance, hour, congestion, spike)\n",
    "    print(f\"{description}: {predicted_latency} ms\")"
   ]
  },
  {
   "cell_type": "markdown",
   "id": "residual-analysis",
   "metadata": {},
   "source": [
    "## 9. Residual Analysis"
   ]
  },
  {
   "cell_type": "code",
   "execution_count": null,
   "id": "residual-plots",
   "metadata": {},
   "outputs": [],
   "source": [
    "# Calculate residuals\n",
    "residuals = y_test - y_pred\n",
    "\n",
    "# Residual plots\n",
    "fig, axes = plt.subplots(1, 2, figsize=(15, 5))\n",
    "\n",
    "# Residuals vs. Predicted\n",
    "axes[0].scatter(y_pred, residuals, alpha=0.5)\n",
    "axes[0].axhline(y=0, color='r', linestyle='--')\n",
    "axes[0].set_xlabel('Predicted Latency (ms)')\n",
    "axes[0].set_ylabel('Residuals (ms)')\n",
    "axes[0].set_title('Residuals vs. Predicted Values')\n",
    "axes[0].grid(True)\n",
    "\n",
    "# Histogram of residuals\n",
    "axes[1].hist(residuals, bins=30, edgecolor='black', alpha=0.7)\n",
    "axes[1].axvline(x=0, color='r', linestyle='--')\n",
    "axes[1].set_xlabel('Residuals (ms)')\n",
    "axes[1].set_ylabel('Frequency')\n",
    "axes[1].set_title('Distribution of Residuals')\n",
    "axes[1].grid(True)\n",
    "\n",
    "plt.tight_layout()\n",
    "plt.show()\n",
    "\n",
    "print(f\"\\nResidual Statistics:\")\n",
    "print(f\"Mean residual: {np.mean(residuals):.3f} ms\")\n",
    "print(f\"Standard deviation of residuals: {np.std(residuals):.3f} ms\")"
   ]
  },
  {
   "cell_type": "markdown",
   "id": "conclusion",
   "metadata": {},
   "source": [
    "## 10. Conclusion"
   ]
  },
  {
   "cell_type": "code",
   "execution_count": null,
   "id": "conclusion-notes",
   "metadata": {},
   "outputs": [],
   "source": [
    "print(\"\\n--- Conclusion ---\")\n",
    "print(f\"The XGBoost Regressor model successfully learned to predict network latency with high accuracy, achieving an R-squared score of {r2:.2%}.\")\n",
    "print(\"Key Takeaways:\")\n",
    "print(f\"- The model's Mean Absolute Error of {mae:.2f} ms shows it can produce reliable, actionable latency estimates for network monitoring.\")\n",
    "print(\"- The 'Actual vs. Predicted' plot confirms the model's strong performance, as most predictions lie very close to the ideal 'Perfect Prediction' line.\")\n",
    "print(\"- The feature importance plot provides crucial insights for network engineers. It confirms that distance is the single most dominant factor in latency, followed by the time of day and its associated congestion.\")\n",
    "print(\"- A model like this could be deployed in a Network Operations Center (NOC) to power a 'what-if' analysis tool. An operator could ask, 'What will the latency to our new London data center (3400 km away) be during peak business hours?' and get an instant, data-driven estimate, improving planning and design decisions.\")\n",
    "print(\"\\nPractical Applications:\")\n",
    "print(\"- Proactive network monitoring and alerting\")\n",
    "print(\"- Capacity planning and infrastructure investment decisions\")\n",
    "print(\"- Real-time traffic routing optimization\")\n",
    "print(\"- SLA management and performance guarantees\")"
   ]
  }
 ],
 "metadata": {
  "kernelspec": {
   "display_name": "Python 3",
   "language": "python",
   "name": "python3"
  },
  "language_info": {
   "codemirror_mode": {
    "name": "ipython",
    "version": 3
   },
   "file_extension": ".py",
   "mimetype": "text/x-python",
   "name": "python",
   "nbconvert_exporter": "python",
   "pygments_lexer": "ipython3",
   "version": "3.8.10"
  }
 },
 "nbformat": 4,
 "nbformat_minor": 5
}