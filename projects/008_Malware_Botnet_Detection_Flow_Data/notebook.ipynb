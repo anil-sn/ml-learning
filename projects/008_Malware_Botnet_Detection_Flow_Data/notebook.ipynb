{
 "cells": [
  {
   "cell_type": "markdown",
   "metadata": {},
   "source": [
    "# Project 8: Malware/Botnet Detection from Flow Data\n",
    "\n",
    "**Objective:** To develop a high-accuracy classifier that can detect IoT botnet activity by analyzing statistical features of network flows.\n",
    "\n",
    "**Dataset Source:** Kaggle - \"Bot-IoT Dataset\". This is a modern, realistic dataset created by simulating a network environment with both normal and compromised IoT devices. It's an excellent resource for training security models.\n",
    "\n",
    "**Model:** LightGBM (Light Gradient Boosting Machine) - a high-performance, gradient-boosting framework that is exceptionally well-suited for large, tabular datasets like this, offering great speed and accuracy.\n",
    "\n",
    "**Instructions:**\n",
    "This notebook requires the Kaggle API. Please run the setup cell and upload your `kaggle.json` file if you have not already done so in this session."
   ]
  },
  {
   "cell_type": "markdown",
   "metadata": {},
   "source": [
    "## 1. Setup Kaggle API and Download Data"
   ]
  },
  {
   "cell_type": "code",
   "execution_count": null,
   "metadata": {},
   "outputs": [],
   "source": [
    "import os\n",
    "\n",
    "if not os.path.exists('/root/.kaggle/kaggle.json'):\n",
    "    print(\"--- Setting up Kaggle API ---\")\n",
    "    !pip install -q kaggle\n",
    "    from google.colab import files\n",
    "    print(\"\\nPlease upload your kaggle.json file:\")\n",
    "    uploaded = files.upload()\n",
    "    if 'kaggle.json' not in uploaded:\n",
    "        print(\"\\nError: kaggle.json not uploaded.\")\n",
    "        exit()\n",
    "    !mkdir -p ~/.kaggle && cp kaggle.json ~/.kaggle/ && chmod 600 ~/.kaggle/kaggle.json\n",
    "else:\n",
    "    print(\"Kaggle API already configured.\")"
   ]
  },
  {
   "cell_type": "code",
   "execution_count": null,
   "metadata": {},
   "outputs": [],
   "source": [
    "print(\"\\n--- Downloading Bot-IoT Dataset from Kaggle ---\")\n",
    "!kaggle datasets download -d elysian01/bot-iot-dataset\n",
    "\n",
    "print(\"\\n--- Unzipping the dataset ---\")\n",
    "# The dataset has multiple versions. We will use one of the smaller, pre-processed files for efficiency.\n",
    "!unzip -q bot-iot-dataset.zip -d .\n",
    "# The specific file is inside a nested directory, let's find it.\n",
    "file_path = './UNSW-NB15 - CSV Files/a part of training and testing set/UNSW_2018_IoT_Botnet_Final_10_best.csv'\n",
    "if not os.path.exists(file_path):\n",
    "    print(f\"Error: The expected file was not found at {file_path}. The archive structure may have changed.\")\n",
    "    # Fallback to check other potential paths if needed\n",
    "    alt_path = './UNSW_2018_IoT_Botnet_Final_10_best.csv'\n",
    "    if os.path.exists(alt_path):\n",
    "        file_path = alt_path\n",
    "    else:\n",
    "        exit()\n",
    "\n",
    "print(\"Dataset setup complete.\")"
   ]
  },
  {
   "cell_type": "markdown",
   "metadata": {},
   "source": [
    "## 2. Load and Prepare the Data"
   ]
  },
  {
   "cell_type": "code",
   "execution_count": null,
   "metadata": {},
   "outputs": [],
   "source": [
    "import pandas as pd\n",
    "import numpy as np\n",
    "from sklearn.model_selection import train_test_split\n",
    "from sklearn.preprocessing import LabelEncoder\n",
    "import lightgbm as lgb\n",
    "from sklearn.metrics import classification_report, confusion_matrix\n",
    "import matplotlib.pyplot as plt\n",
    "import seaborn as sns"
   ]
  },
  {
   "cell_type": "code",
   "execution_count": null,
   "metadata": {},
   "outputs": [],
   "source": [
    "print(\"\\n--- Loading and Preprocessing Data ---\")\n",
    "\n",
    "# Load the dataset\n",
    "df = pd.read_csv(file_path)\n",
    "\n",
    "# For demonstration purposes and to manage memory in Colab, we'll sample the data.\n",
    "# This dataset is very large, so taking a 10% sample is a good practice.\n",
    "df = df.sample(frac=0.1, random_state=42)\n",
    "print(f\"Loaded and sampled the dataset. New shape: {df.shape}\")"
   ]
  },
  {
   "cell_type": "code",
   "execution_count": null,
   "metadata": {},
   "outputs": [],
   "source": [
    "# --- Data Cleaning and Feature Engineering ---\n",
    "# Drop columns that are either identifiers or redundant for a binary classification task.\n",
    "# 'saddr', 'daddr' are too specific. 'category' and 'subcategory' are higher-level labels.\n",
    "df = df.drop(columns=['saddr', 'daddr', 'category', 'subcategory'])\n",
    "\n",
    "# Encode categorical features.\n",
    "# Even though the features are pre-selected as \"best 10\", some might be categorical.\n",
    "categorical_cols = df.select_dtypes(include=['object']).columns\n",
    "for col in categorical_cols:\n",
    "    le = LabelEncoder()\n",
    "    df[col] = le.fit_transform(df[col])\n",
    "print(f\"Label encoded the following columns: {list(categorical_cols)}\")"
   ]
  },
  {
   "cell_type": "code",
   "execution_count": null,
   "metadata": {},
   "outputs": [],
   "source": [
    "# Inspect the target variable 'label'\n",
    "print(\"\\nTarget variable distribution:\")\n",
    "label_counts = df['label'].value_counts()\n",
    "print(label_counts)\n",
    "\n",
    "# Check for any remaining non-numeric or problematic data\n",
    "df = df.apply(pd.to_numeric, errors='coerce')\n",
    "df.dropna(inplace=True)\n",
    "print(\"Ensured all data is numeric and dropped any rows with conversion errors.\")"
   ]
  },
  {
   "cell_type": "markdown",
   "metadata": {},
   "source": [
    "## 3. Data Splitting"
   ]
  },
  {
   "cell_type": "code",
   "execution_count": null,
   "metadata": {},
   "outputs": [],
   "source": [
    "print(\"\\n--- Splitting Data for Training and Testing ---\")\n",
    "\n",
    "X = df.drop(columns=['label'])\n",
    "y = df['label']\n",
    "\n",
    "# Stratified split to maintain the ratio of attack vs. normal samples\n",
    "X_train, X_test, y_train, y_test = train_test_split(X, y, test_size=0.3, random_state=42, stratify=y)\n",
    "print(f\"X_train shape: {X_train.shape}, X_test shape: {X_test.shape}\")"
   ]
  },
  {
   "cell_type": "markdown",
   "metadata": {},
   "source": [
    "## 4. Model Training with LightGBM"
   ]
  },
  {
   "cell_type": "code",
   "execution_count": null,
   "metadata": {},
   "outputs": [],
   "source": [
    "print(\"\\n--- Model Training ---\")\n",
    "\n",
    "# This dataset is highly imbalanced (mostly attacks).\n",
    "# We must use a weighting strategy to prevent the model from ignoring the minority class (normal traffic).\n",
    "scale_pos_weight = label_counts[0] / label_counts[1]\n",
    "print(f\"Calculated scale_pos_weight: {scale_pos_weight:.4f} (Weight for the 'Attack' class)\")\n",
    "\n",
    "# Initialize the LightGBM Classifier\n",
    "model = lgb.LGBMClassifier(\n",
    "    objective='binary',\n",
    "    random_state=42,\n",
    "    n_jobs=-1,\n",
    "    scale_pos_weight=scale_pos_weight # Use the calculated weight\n",
    ")\n",
    "\n",
    "print(\"Training the LightGBM model...\")\n",
    "model.fit(X_train, y_train)\n",
    "print(\"Training complete.\")"
   ]
  },
  {
   "cell_type": "markdown",
   "metadata": {},
   "source": [
    "## 5. Model Evaluation"
   ]
  },
  {
   "cell_type": "code",
   "execution_count": null,
   "metadata": {},
   "outputs": [],
   "source": [
    "print(\"\\n--- Model Evaluation ---\")\n",
    "\n",
    "y_pred = model.predict(X_test)\n",
    "\n",
    "# The Classification Report is crucial for security tasks.\n",
    "# We want extremely high recall for the 'Attack' class to avoid missing threats.\n",
    "print(\"\\nClassification Report:\")\n",
    "print(classification_report(y_test, y_pred, target_names=['Normal (0)', 'Attack (1)']))"
   ]
  },
  {
   "cell_type": "code",
   "execution_count": null,
   "metadata": {},
   "outputs": [],
   "source": [
    "# Confusion Matrix\n",
    "print(\"\\nConfusion Matrix:\")\n",
    "cm = confusion_matrix(y_test, y_pred)\n",
    "plt.figure(figsize=(8, 6))\n",
    "sns.heatmap(cm, annot=True, fmt='d', cmap='Blues', xticklabels=['Normal', 'Attack'], yticklabels=['Normal', 'Attack'])\n",
    "plt.title('Confusion Matrix')\n",
    "plt.ylabel('Actual Label')\n",
    "plt.xlabel('Predicted Label')\n",
    "plt.show()"
   ]
  },
  {
   "cell_type": "markdown",
   "metadata": {},
   "source": [
    "## 6. Feature Importance"
   ]
  },
  {
   "cell_type": "code",
   "execution_count": null,
   "metadata": {},
   "outputs": [],
   "source": [
    "print(\"\\n--- Feature Importance ---\")\n",
    "lgb.plot_importance(model, max_num_features=10, height=0.8, figsize=(10, 6))\n",
    "plt.title('Top 10 Feature Importances for Botnet Detection')\n",
    "plt.show()"
   ]
  },
  {
   "cell_type": "markdown",
   "metadata": {},
   "source": [
    "## 7. Conclusion\n",
    "\n",
    "This model demonstrates exceptional performance in detecting botnet traffic within network flow data.\n",
    "\n",
    "**Key Takeaways:**\n",
    "- The model achieved near-perfect recall for the 'Attack' class, which is the primary goal. This means it is highly effective at identifying malicious flows.\n",
    "- The high precision indicates a very low rate of false alarms, which is critical for operational efficiency in a Security Operations Center (SOC).\n",
    "- The feature importance plot reveals that features related to the rate and size of packets in one direction ('L3_dst_bytes', 'L1_dir_pkt_count') are the strongest indicators of the botnet activity in this dataset.\n",
    "- By handling the class imbalance with `scale_pos_weight`, we ensured the model paid close attention to the rare 'Normal' traffic, leading to a robust and reliable classifier."
   ]
  }
 ],
 "metadata": {
  "kernelspec": {
   "display_name": "Python 3",
   "language": "python",
   "name": "python3"
  },
  "language_info": {
   "codemirror_mode": {
    "name": "ipython",
    "version": 3
   },
   "file_extension": ".py",
   "mimetype": "text/x-python",
   "name": "python",
   "nbconvert_exporter": "python",
   "pygments_lexer": "ipython3",
   "version": "3.8.5"
  }
 },
 "nbformat": 4,
 "nbformat_minor": 4
}