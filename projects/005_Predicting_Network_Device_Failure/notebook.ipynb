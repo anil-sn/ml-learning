{
 "cells": [
  {
   "cell_type": "markdown",
   "metadata": {},
   "source": [
    "# Project 5: Predicting Network Device Failure/Degradation\n",
    "\n",
    "**Objective:** To build a model that can predict an imminent device failure based on its operational metrics. This allows engineers to perform proactive maintenance, preventing outages.\n",
    "\n",
    "**Dataset Source:** Kaggle - \"Backblaze Hard Drive Stats\" dataset. Backblaze, a cloud storage provider, publishes daily SMART metric data for the tens of thousands of hard drives in their data centers, including failure information.\n",
    "\n",
    "**Model:** LightGBM (Light Gradient Boosting Machine) - a state-of-the-art gradient boosting framework that is extremely fast, memory-efficient, and highly effective for imbalanced tabular data.\n",
    "\n",
    "**Instructions:**\n",
    "This notebook requires the Kaggle API. If you have already configured it, you can skip the setup. Otherwise, run the setup cell and upload your `kaggle.json` file."
   ]
  },
  {
   "cell_type": "markdown",
   "metadata": {},
   "source": [
    "## 1. Setup Kaggle API and Download Data"
   ]
  },
  {
   "cell_type": "code",
   "execution_count": null,
   "metadata": {},
   "outputs": [],
   "source": [
    "import os\n",
    "\n",
    "if not os.path.exists('/root/.kaggle/kaggle.json'):\n",
    "    print(\"--- Setting up Kaggle API ---\")\n",
    "    !pip install -q kaggle\n",
    "    from google.colab import files\n",
    "    print(\"\\nPlease upload your kaggle.json file:\")\n",
    "    uploaded = files.upload()\n",
    "    if 'kaggle.json' not in uploaded:\n",
    "        print(\"\\nError: kaggle.json not uploaded.\")\n",
    "        exit()\n",
    "    !mkdir -p ~/.kaggle && cp kaggle.json ~/.kaggle/ && chmod 600 ~/.kaggle/kaggle.json\n",
    "else:\n",
    "    print(\"Kaggle API already configured.\")"
   ]
  },
  {
   "cell_type": "code",
   "execution_count": null,
   "metadata": {},
   "outputs": [],
   "source": [
    "print(\"\\n--- Downloading Backblaze Hard Drive Dataset from Kaggle ---\")\n",
    "# The full dataset is huge. We will download a specific, manageable portion.\n",
    "!kaggle datasets download -d anasofiauzsoy/hard-drive-failure-prediction -f 'hdd_latest_select_features.csv'\n",
    "\n",
    "print(\"\\n--- Unzipping the dataset ---\")\n",
    "!unzip -q hdd_latest_select_features.csv.zip -d .\n",
    "print(\"Dataset setup complete.\")"
   ]
  },
  {
   "cell_type": "markdown",
   "metadata": {},
   "source": [
    "## 2. Load and Prepare the Data"
   ]
  },
  {
   "cell_type": "code",
   "execution_count": null,
   "metadata": {},
   "outputs": [],
   "source": [
    "import pandas as pd\n",
    "import numpy as np\n",
    "from sklearn.model_selection import train_test_split\n",
    "import lightgbm as lgb\n",
    "from sklearn.metrics import classification_report, confusion_matrix, precision_recall_curve, auc\n",
    "import matplotlib.pyplot as plt\n",
    "import seaborn as sns"
   ]
  },
  {
   "cell_type": "code",
   "execution_count": null,
   "metadata": {},
   "outputs": [],
   "source": [
    "print(\"\\n--- Loading and Preprocessing Data ---\")\n",
    "\n",
    "try:\n",
    "    df = pd.read_csv('hdd_latest_select_features.csv')\n",
    "except FileNotFoundError:\n",
    "    print(\"Error: CSV file not found. Download may have failed.\")\n",
    "    exit()\n",
    "\n",
    "print(f\"Dataset loaded. Shape: {df.shape}\")\n",
    "\n",
    "# Drop non-feature columns\n",
    "df = df.drop(columns=['date', 'serial_number', 'model'])\n",
    "\n",
    "# Handle missing values - a common issue with sensor data. We'll use a simple fill.\n",
    "df.fillna(0, inplace=True)\n",
    "print(\"Filled missing values with 0.\")"
   ]
  },
  {
   "cell_type": "markdown",
   "metadata": {},
   "source": [
    "### Understanding the Class Imbalance\n",
    "This is the MOST important step for this problem."
   ]
  },
  {
   "cell_type": "code",
   "execution_count": null,
   "metadata": {},
   "outputs": [],
   "source": [
    "failure_counts = df['failure'].value_counts()\n",
    "failure_rate = failure_counts[1] / (failure_counts[0] + failure_counts[1])\n",
    "print(\"\\nClass Distribution:\")\n",
    "print(failure_counts)\n",
    "print(f\"Failure Rate: {failure_rate:.4%}\")\n",
    "if failure_rate > 0.1:\n",
    "    print(\"Warning: The 'failure' rate is higher than expected. Check the data.\")"
   ]
  },
  {
   "cell_type": "markdown",
   "metadata": {},
   "source": [
    "## 3. Data Splitting"
   ]
  },
  {
   "cell_type": "code",
   "execution_count": null,
   "metadata": {},
   "outputs": [],
   "source": [
    "print(\"\\n--- Splitting Data for Training and Testing ---\")\n",
    "\n",
    "X = df.drop(columns=['failure'])\n",
    "y = df['failure']\n",
    "\n",
    "# Use stratify=y to ensure the tiny proportion of failures is present in both train and test sets.\n",
    "X_train, X_test, y_train, y_test = train_test_split(X, y, test_size=0.3, random_state=42, stratify=y)\n",
    "\n",
    "print(f\"X_train shape: {X_train.shape}\")\n",
    "print(f\"Test set failure distribution:\\n{y_test.value_counts()}\")"
   ]
  },
  {
   "cell_type": "markdown",
   "metadata": {},
   "source": [
    "## 4. Model Training with LightGBM"
   ]
  },
  {
   "cell_type": "code",
   "execution_count": null,
   "metadata": {},
   "outputs": [],
   "source": [
    "print(\"\\n--- Model Training ---\")\n",
    "\n",
    "# To handle the extreme class imbalance, we calculate a weight for the positive class.\n",
    "# This tells the model to pay much more attention to failure events during training.\n",
    "scale_pos_weight = failure_counts[0] / failure_counts[1]\n",
    "print(f\"Calculated scale_pos_weight: {scale_pos_weight:.2f}\")\n",
    "\n",
    "# Initialize the LightGBM Classifier\n",
    "model = lgb.LGBMClassifier(\n",
    "    objective='binary',\n",
    "    random_state=42,\n",
    "    n_jobs=-1,\n",
    "    scale_pos_weight=scale_pos_weight  # Crucial parameter for imbalance\n",
    ")\n",
    "\n",
    "print(\"Training the LightGBM model...\")\n",
    "model.fit(X_train, y_train)\n",
    "print(\"Training complete.\")"
   ]
  },
  {
   "cell_type": "markdown",
   "metadata": {},
   "source": [
    "## 5. Model Evaluation for Imbalanced Data"
   ]
  },
  {
   "cell_type": "code",
   "execution_count": null,
   "metadata": {},
   "outputs": [],
   "source": [
    "print(\"\\n--- Model Evaluation ---\")\n",
    "\n",
    "y_pred = model.predict(X_test)\n",
    "y_pred_proba = model.predict_proba(X_test)[:, 1] # Probabilities for the 'failure' class\n",
    "\n",
    "# --- DO NOT rely on accuracy! ---\n",
    "# A model predicting 'no failure' all the time would have >99% accuracy.\n",
    "\n",
    "# The Classification Report is key. We care most about 'recall' for class 1.\n",
    "print(\"\\nClassification Report (Focus on Recall for class 1):\")\n",
    "print(classification_report(y_test, y_pred, target_names=['No Failure (0)', 'Failure (1)']))"
   ]
  },
  {
   "cell_type": "code",
   "execution_count": null,
   "metadata": {},
   "outputs": [],
   "source": [
    "# The Confusion Matrix shows us the actual number of correct/incorrect predictions.\n",
    "print(\"\\nConfusion Matrix:\")\n",
    "cm = confusion_matrix(y_test, y_pred)\n",
    "plt.figure(figsize=(8, 6))\n",
    "sns.heatmap(cm, annot=True, fmt='d', cmap='Blues', xticklabels=['No Failure', 'Failure'], yticklabels=['No Failure', 'Failure'])\n",
    "plt.title('Confusion Matrix')\n",
    "plt.ylabel('Actual Label')\n",
    "plt.xlabel('Predicted Label')\n",
    "plt.show()\n",
    "print(\"TN (Top-Left): Correctly predicted no failure.\")\n",
    "print(\"FP (Top-Right): Incorrectly predicted failure (False Alarm).\")\n",
    "print(\"FN (Bottom-Left): MISSED a real failure (Most Critical Error!).\")\n",
    "print(\"TP (Bottom-Right): Correctly predicted failure (True Positive).\")"
   ]
  },
  {
   "cell_type": "markdown",
   "metadata": {},
   "source": [
    "### Precision-Recall Curve\n",
    "This is a much better visualization than ROC/AUC for imbalanced datasets."
   ]
  },
  {
   "cell_type": "code",
   "execution_count": null,
   "metadata": {},
   "outputs": [],
   "source": [
    "precision, recall, _ = precision_recall_curve(y_test, y_pred_proba)\n",
    "pr_auc = auc(recall, precision)\n",
    "\n",
    "plt.figure(figsize=(8, 6))\n",
    "plt.plot(recall, precision, label=f'PR Curve (AUC = {pr_auc:.2f})')\n",
    "plt.xlabel('Recall')\n",
    "plt.ylabel('Precision')\n",
    "plt.title('Precision-Recall Curve')\n",
    "plt.legend(loc='best')\n",
    "plt.grid(True)\n",
    "plt.show()"
   ]
  },
  {
   "cell_type": "markdown",
   "metadata": {},
   "source": [
    "## 6. Feature Importance"
   ]
  },
  {
   "cell_type": "code",
   "execution_count": null,
   "metadata": {},
   "outputs": [],
   "source": [
    "print(\"\\n--- Feature Importance ---\")\n",
    "lgb.plot_importance(model, max_num_features=15, height=0.8, figsize=(10, 8))\n",
    "plt.title('Top 15 Feature Importances for Predicting Failure')\n",
    "plt.show()"
   ]
  },
  {
   "cell_type": "markdown",
   "metadata": {},
   "source": [
    "## 7. Conclusion\n",
    "\n",
    "This notebook demonstrates a practical approach to predictive maintenance, a problem defined by severe class imbalance.\n",
    "\n",
    "**Key Takeaways:**\n",
    "- The model's recall for the 'Failure' class is the most important metric. It tells us the percentage of actual failures we successfully caught. A high recall is critical to prevent outages.\n",
    "- The Confusion Matrix showed us the exact number of missed failures (False Negatives), which is the primary business risk.\n",
    "- The Precision-Recall curve provides a clear view of the trade-off between raising false alarms (low precision) and catching more failures (high recall).\n",
    "- The feature importance plot shows which metrics (e.g., 'smart_5_raw', 'smart_187_raw') are the strongest predictors, guiding what network engineers should monitor most closely."
   ]
  }
 ],
 "metadata": {
  "kernelspec": {
   "display_name": "Python 3",
   "language": "python",
   "name": "python3"
  },
  "language_info": {
   "codemirror_mode": {
    "name": "ipython",
    "version": 3
   },
   "file_extension": ".py",
   "mimetype": "text/x-python",
   "name": "python",
   "nbconvert_exporter": "python",
   "pygments_lexer": "ipython3",
   "version": "3.8.5"
  }
 },
 "nbformat": 4,
 "nbformat_minor": 4
}