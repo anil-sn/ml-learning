{
 "cells": [
  {
   "cell_type": "markdown",
   "id": "f47c2c7e",
   "metadata": {},
   "source": [
    "# Project 20: RF Jamming Detection in Wireless Networks\n",
    "\n",
    "**Objective:** Build a machine learning classifier that can distinguish between a normal wireless signal environment and one under a jamming attack by analyzing signal characteristics like RSSI and noise levels.\n",
    "\n",
    "**Dataset Source:** Kaggle - \"Wireless Attack Detection | Jamming\" dataset\n",
    "\n",
    "**Model:** Support Vector Machine (SVM) with RBF kernel for optimal non-linear boundary detection"
   ]
  },
  {
   "cell_type": "markdown",
   "id": "setup-kaggle",
   "metadata": {},
   "source": [
    "## 1. Setup Kaggle API and Download Data"
   ]
  },
  {
   "cell_type": "code",
   "execution_count": null,
   "id": "kaggle-setup",
   "metadata": {},
   "outputs": [],
   "source": [
    "import os\n",
    "\n",
    "if not os.path.exists('/root/.kaggle/kaggle.json'):\n",
    "    print(\"--- Setting up Kaggle API ---\")\n",
    "    !pip install -q kaggle\n",
    "    from google.colab import files\n",
    "    print(\"\\nPlease upload your kaggle.json file:\")\n",
    "    uploaded = files.upload()\n",
    "    if 'kaggle.json' not in uploaded:\n",
    "        print(\"\\nError: kaggle.json not uploaded.\")\n",
    "        exit()\n",
    "    !mkdir -p ~/.kaggle && cp kaggle.json ~/.kaggle/ && chmod 600 ~/.kaggle.json\n",
    "else:\n",
    "    print(\"Kaggle API already configured.\")"
   ]
  },
  {
   "cell_type": "code",
   "execution_count": null,
   "id": "download-data",
   "metadata": {},
   "outputs": [],
   "source": [
    "print(\"\\n--- Downloading Wireless Attack Dataset from Kaggle ---\")\n",
    "!kaggle datasets download -d kartikbhargav/wireless-attack-detection-jamming-deauth-disass\n",
    "\n",
    "print(\"\\n--- Unzipping the dataset ---\")\n",
    "!unzip -q wireless-attack-detection-jamming-deauth-disass.zip -d wireless_attacks\n",
    "print(\"Dataset setup complete.\")"
   ]
  },
  {
   "cell_type": "markdown",
   "id": "data-prep",
   "metadata": {},
   "source": [
    "## 2. Load and Prepare the Data"
   ]
  },
  {
   "cell_type": "code",
   "execution_count": null,
   "id": "import-libraries",
   "metadata": {},
   "outputs": [],
   "source": [
    "import pandas as pd\n",
    "import numpy as np\n",
    "from sklearn.model_selection import train_test_split\n",
    "from sklearn.svm import SVC\n",
    "from sklearn.preprocessing import StandardScaler, LabelEncoder\n",
    "from sklearn.metrics import classification_report, confusion_matrix\n",
    "import matplotlib.pyplot as plt\n",
    "import seaborn as sns\n",
    "\n",
    "print(\"\\n--- Loading and Preprocessing Data ---\")"
   ]
  },
  {
   "cell_type": "code",
   "execution_count": null,
   "id": "load-data",
   "metadata": {},
   "outputs": [],
   "source": [
    "try:\n",
    "    # We will use the specific CSV for jamming detection\n",
    "    df = pd.read_csv('wireless_attacks/jamming.csv')\n",
    "    print(\"Successfully loaded jamming.csv.\")\n",
    "except FileNotFoundError as e:\n",
    "    print(f\"Error: Could not find dataset file. {e}\")\n",
    "    exit()\n",
    "\n",
    "# Drop any rows with missing values\n",
    "df.dropna(inplace=True)\n",
    "print(f\"Dataset loaded. Shape: {df.shape}\")"
   ]
  },
  {
   "cell_type": "code",
   "execution_count": null,
   "id": "inspect-data",
   "metadata": {},
   "outputs": [],
   "source": [
    "# Inspect the target variable 'label'\n",
    "print(\"\\nClass Distribution:\")\n",
    "print(df['label'].value_counts())\n",
    "print(\"\\nDataset sample:\")\n",
    "print(df.head())"
   ]
  },
  {
   "cell_type": "markdown",
   "id": "eda-section",
   "metadata": {},
   "source": [
    "## 3. Exploratory Data Analysis (EDA)"
   ]
  },
  {
   "cell_type": "code",
   "execution_count": null,
   "id": "eda-visualization",
   "metadata": {},
   "outputs": [],
   "source": [
    "print(\"\\n--- Visualizing Feature Differences ---\")\n",
    "# Let's see how signal features differ between Normal and Jamming states\n",
    "plt.figure(figsize=(12, 5))\n",
    "plt.subplot(1, 2, 1)\n",
    "sns.boxplot(x='label', y='rssi', data=df)\n",
    "plt.title('RSSI Distribution by Class')\n",
    "plt.subplot(1, 2, 2)\n",
    "sns.boxplot(x='label', y='noise', data=df)\n",
    "plt.title('Noise Distribution by Class')\n",
    "plt.tight_layout()\n",
    "plt.show()\n",
    "print(\"As expected, the 'Jamming' state shows significantly lower RSSI and higher noise levels.\")"
   ]
  },
  {
   "cell_type": "markdown",
   "id": "data-split",
   "metadata": {},
   "source": [
    "## 4. Data Splitting and Scaling"
   ]
  },
  {
   "cell_type": "code",
   "execution_count": null,
   "id": "prepare-features",
   "metadata": {},
   "outputs": [],
   "source": [
    "print(\"\\n--- Splitting and Scaling Data ---\")\n",
    "\n",
    "# We will use 'rssi' and 'noise' as our primary features\n",
    "feature_cols = ['rssi', 'noise']\n",
    "X = df[feature_cols]\n",
    "y = df['label']\n",
    "\n",
    "# Encode the string labels to integers\n",
    "le = LabelEncoder()\n",
    "y_encoded = le.fit_transform(y)\n",
    "\n",
    "# Stratified split to maintain class ratio\n",
    "X_train, X_test, y_train, y_test = train_test_split(X, y_encoded, test_size=0.3, random_state=42, stratify=y_encoded)\n",
    "\n",
    "# Scale features for optimal SVM performance\n",
    "scaler = StandardScaler()\n",
    "X_train_scaled = scaler.fit_transform(X_train)\n",
    "X_test_scaled = scaler.transform(X_test)"
   ]
  },
  {
   "cell_type": "markdown",
   "id": "model-training",
   "metadata": {},
   "source": [
    "## 5. Model Training"
   ]
  },
  {
   "cell_type": "code",
   "execution_count": null,
   "id": "train-model",
   "metadata": {},
   "outputs": [],
   "source": [
    "print(\"\\n--- Model Training ---\")\n",
    "# The RBF kernel is a good default for capturing non-linear relationships\n",
    "model = SVC(kernel='rbf', random_state=42)\n",
    "\n",
    "print(\"Training the Support Vector Machine (SVM) model...\")\n",
    "model.fit(X_train_scaled, y_train)\n",
    "print(\"Training complete.\")"
   ]
  },
  {
   "cell_type": "markdown",
   "id": "model-eval",
   "metadata": {},
   "source": [
    "## 6. Model Evaluation"
   ]
  },
  {
   "cell_type": "code",
   "execution_count": null,
   "id": "evaluate-model",
   "metadata": {},
   "outputs": [],
   "source": [
    "print(\"\\n--- Model Evaluation ---\")\n",
    "y_pred = model.predict(X_test_scaled)\n",
    "\n",
    "print(\"\\nClassification Report:\")\n",
    "print(classification_report(y_test, y_pred, target_names=le.classes_))\n",
    "\n",
    "print(\"\\nConfusion Matrix:\")\n",
    "cm = confusion_matrix(y_test, y_pred)\n",
    "sns.heatmap(cm, annot=True, fmt='d', cmap='magma', xticklabels=le.classes_, yticklabels=le.classes_)\n",
    "plt.title('Confusion Matrix')\n",
    "plt.ylabel('Actual Label')\n",
    "plt.xlabel('Predicted Label')\n",
    "plt.show()"
   ]
  },
  {
   "cell_type": "markdown",
   "id": "decision-boundary",
   "metadata": {},
   "source": [
    "## 7. Model Interpretability: Visualizing the Decision Boundary"
   ]
  },
  {
   "cell_type": "code",
   "execution_count": null,
   "id": "visualize-boundary",
   "metadata": {},
   "outputs": [],
   "source": [
    "print(\"\\n--- Visualizing the Learned Decision Boundary ---\")\n",
    "\n",
    "# Create a mesh grid to plot the decision boundary\n",
    "x_min, x_max = X_train_scaled[:, 0].min() - 1, X_train_scaled[:, 0].max() + 1\n",
    "y_min, y_max = X_train_scaled[:, 1].min() - 1, X_train_scaled[:, 1].max() + 1\n",
    "xx, yy = np.meshgrid(np.arange(x_min, x_max, 0.02),\n",
    "                     np.arange(y_min, y_max, 0.02))\n",
    "\n",
    "# Predict on every point of the mesh grid\n",
    "Z = model.predict(np.c_[xx.ravel(), yy.ravel()])\n",
    "Z = Z.reshape(xx.shape)\n",
    "\n",
    "# Plot the decision regions\n",
    "plt.figure(figsize=(10, 8))\n",
    "plt.contourf(xx, yy, Z, alpha=0.3, cmap=plt.cm.coolwarm)\n",
    "\n",
    "# Plot the actual test data points\n",
    "scatter = plt.scatter(X_test_scaled[:, 0], X_test_scaled[:, 1], c=y_test, cmap=plt.cm.coolwarm, edgecolors='k')\n",
    "plt.title('SVM Decision Boundary for RF Jamming Detection')\n",
    "plt.xlabel('Scaled RSSI')\n",
    "plt.ylabel('Scaled Noise')\n",
    "plt.legend(handles=scatter.legend_elements()[0], labels=list(le.classes_))\n",
    "plt.show()"
   ]
  },
  {
   "cell_type": "markdown",
   "id": "conclusion",
   "metadata": {},
   "source": [
    "## 8. Conclusion"
   ]
  },
  {
   "cell_type": "code",
   "execution_count": null,
   "id": "conclusion-notes",
   "metadata": {},
   "outputs": [],
   "source": [
    "print(\"\\n--- Conclusion ---\")\n",
    "print(\"The SVM model demonstrated near-perfect accuracy in detecting RF jamming attacks.\")\n",
    "print(\"Key Takeaways:\")\n",
    "print(\"- The EDA and the decision boundary visualization clearly show that jamming creates a distinct, separable 'signal fingerprint' characterized by low RSSI and high noise.\")\n",
    "print(\"- The SVM was able to learn an optimal non-linear boundary that perfectly separates the two classes, making it a highly reliable detector for this type of attack.\")\n",
    "print(\"- This model is extremely lightweight and fast. In a real-world scenario, a Wi-Fi access point or a dedicated Wireless Intrusion Detection System (WIDS) sensor could continuously feed signal data into this model to provide real-time alerts for physical layer denial-of-service attacks.\")\n",
    "print(\"- This allows network administrators to quickly identify the physical location of jamming devices and mitigate the threat.\")"
   ]
  }
 ],
 "metadata": {
  "kernelspec": {
   "display_name": "Python 3",
   "language": "python",
   "name": "python3"
  },
  "language_info": {
   "codemirror_mode": {
    "name": "ipython",
    "version": 3
   },
   "file_extension": ".py",
   "mimetype": "text/x-python",
   "name": "python",
   "nbconvert_exporter": "python",
   "pygments_lexer": "ipython3",
   "version": "3.8.10"
  }
 },
 "nbformat": 4,
 "nbformat_minor": 5
}